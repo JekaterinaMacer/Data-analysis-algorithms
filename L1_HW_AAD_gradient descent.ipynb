{
 "cells": [
  {
   "cell_type": "markdown",
   "metadata": {},
   "source": [
    "# Урок 1. Алгоритм линейной регрессии. Градиентный спуск\n",
    "\n",
    "Рекомендации по оформлению кода:\n",
    "исправляя код из ноутбука, указывайте, пожалуйста, где были сделаны изменения, чтобы было легче ориентироваться в коде, к тому же это повысит скорость проверки работы.\n",
    "\n",
    "Домашнее задание:\n",
    "Используя файл Lesson_1_extended.ipynb (он в web1.zip в материалах):\n",
    "Подберите скорость обучения и количество итераций\n",
    "В коде есть ошибка, исправьте ее.\n",
    "Вместо того, чтобы задавать количество итераций, задайте другое условие останова алгоритма - когда веса перестают изменяться меньше определенного порога эпсилон.\n"
   ]
  },
  {
   "cell_type": "markdown",
   "metadata": {},
   "source": [
    "### 1. Подберите скорость обучения (eta) и количество итераций"
   ]
  },
  {
   "cell_type": "markdown",
   "metadata": {},
   "source": [
    "Задача: предсказание баллов ЕГЭ ученика в зависимости от кол-ва лет стажа его репетитора"
   ]
  },
  {
   "cell_type": "code",
   "execution_count": 98,
   "metadata": {},
   "outputs": [],
   "source": [
    "import numpy as np\n",
    "import matplotlib.pyplot as plt"
   ]
  },
  {
   "cell_type": "code",
   "execution_count": 99,
   "metadata": {},
   "outputs": [],
   "source": [
    "X = np.array([[ 1,  1],\n",
    "              [ 1,  1],\n",
    "              [ 1,  2],\n",
    "              [ 1,  5],\n",
    "              [ 1,  3],\n",
    "              [ 1,  0],\n",
    "              [ 1,  5],\n",
    "              [ 1, 10],\n",
    "              [ 1,  1],\n",
    "              [ 1,  2]])\n",
    "# 1 - константный признак (нужен для нулевого веса, для сдвига)"
   ]
  },
  {
   "cell_type": "code",
   "execution_count": 100,
   "metadata": {},
   "outputs": [
    {
     "data": {
      "text/plain": [
       "(10, 2)"
      ]
     },
     "execution_count": 100,
     "metadata": {},
     "output_type": "execute_result"
    }
   ],
   "source": [
    "X.shape\n",
    "# у нас 10 наблюдений и 2 признака"
   ]
  },
  {
   "cell_type": "code",
   "execution_count": 101,
   "metadata": {},
   "outputs": [],
   "source": [
    "y = [45, 55, 50, 55, 60, 35, 75, 80, 50, 60]\n",
    "# целевая переменная"
   ]
  },
  {
   "cell_type": "code",
   "execution_count": 102,
   "metadata": {},
   "outputs": [
    {
     "data": {
      "image/png": "[encoded data removed]",
      "text/plain": [
       "<Figure size 432x288 with 1 Axes>"
      ]
     },
     "metadata": {
      "needs_background": "light"
     },
     "output_type": "display_data"
    }
   ],
   "source": [
    "plt.scatter(X[:, 1], y);\n",
    "# посмотрим зависимость целевой переменной от признака"
   ]
  },
  {
   "cell_type": "markdown",
   "metadata": {},
   "source": [
    "Уравнение прямой:  𝑦 = 𝑎 ∗ 𝑥 + 𝑏"
   ]
  },
  {
   "cell_type": "code",
   "execution_count": 103,
   "metadata": {},
   "outputs": [],
   "source": [
    "def calc_mae(y, y_pred):\n",
    "    err = np.mean(np.abs(y - y_pred))\n",
    "    return err\n",
    "\n",
    "def calc_mse(y, y_pred):\n",
    "    err = np.mean((y - y_pred)**2)\n",
    "    return err"
   ]
  },
  {
   "cell_type": "markdown",
   "metadata": {},
   "source": [
    "Инициализируем веса маленькими величинами:"
   ]
  },
  {
   "cell_type": "code",
   "execution_count": 104,
   "metadata": {},
   "outputs": [],
   "source": [
    "W = np.array([0.5, 0.5])"
   ]
  },
  {
   "cell_type": "code",
   "execution_count": 105,
   "metadata": {},
   "outputs": [],
   "source": [
    "n = X.shape[0]"
   ]
  },
  {
   "cell_type": "code",
   "execution_count": 106,
   "metadata": {},
   "outputs": [],
   "source": [
    "# зададим скорость обучения и количество итераций\n",
    "# если ошибка будет изменяться очень мало, то увеличим скорость обучения, \n",
    "# т.е. позволим градиентному спуску шагать более широко\n",
    "eta = 1e-1\n",
    "n_iter = 1000"
   ]
  },
  {
   "cell_type": "code",
   "execution_count": 107,
   "metadata": {},
   "outputs": [
    {
     "name": "stdout",
     "output_type": "stream",
     "text": [
      "Number of objects = 10        \n",
      "Learning rate = 0.1        \n",
      "Initial weights = [0.5 0.5] \n",
      "\n"
     ]
    }
   ],
   "source": [
    "print(f'Number of objects = {n} \\\n",
    "       \\nLearning rate = {eta} \\\n",
    "       \\nInitial weights = {W} \\n')"
   ]
  },
  {
   "cell_type": "code",
   "execution_count": 108,
   "metadata": {},
   "outputs": [
    {
     "name": "stdout",
     "output_type": "stream",
     "text": [
      "0.09090909090909091\n",
      "Iteration #0: W_new = [11.4 38.5], MSE = 3102.0\n",
      "0.08264462809917356\n",
      "Iteration #10: W_new = [12752.8082105  70175.53377537], MSE = 18605907474.13\n",
      "0.07513148009015777\n",
      "Iteration #20: W_new = [ 7794462.78878402 42983671.5156699 ], MSE = 9275866959916852.0\n",
      "0.06830134553650706\n",
      "Iteration #30: W_new = [1.07197580e+09 5.91159034e+09], MSE = 2.3654185763886816e+20\n",
      "0.0620921323059155\n",
      "Iteration #40: W_new = [3.02534648e+10 1.66837812e+11], MSE = 2.5861306182234217e+23\n",
      "0.056447393005377725\n",
      "Iteration #50: W_new = [1.56591497e+11 8.63550102e+11], MSE = 9.726486449868705e+24\n",
      "0.051315811823070656\n",
      "Iteration #60: W_new = [1.28767019e+11 7.10107349e+11], MSE = 9.502114053142176e+24\n",
      "0.04665073802097332\n",
      "Iteration #70: W_new = [1.39250106e+10 7.67918089e+10], MSE = 1.667289958811078e+23\n",
      "0.04240976183724847\n",
      "Iteration #80: W_new = [1.52890895e+08 8.43142271e+08], MSE = 3.175879727287169e+19\n",
      "0.03855432894295315\n",
      "Iteration #90: W_new = [117328.84387172 646785.89212586], MSE = 31821746616003.92\n",
      "0.03504938994813923\n",
      "Iteration #100: W_new = [48.44615246 23.15282911], MSE = 54380.24\n",
      "0.03186308177103566\n",
      "Iteration #110: W_new = [44.976156    3.82816535], MSE = 43.97\n",
      "0.02896643797366878\n",
      "Iteration #120: W_new = [44.99820632  3.82415867], MSE = 43.97\n",
      "0.02633312543060798\n",
      "Iteration #130: W_new = [45.01330768  3.82142027], MSE = 43.97\n",
      "0.023939204936916342\n",
      "Iteration #140: W_new = [45.02392322  3.8194953 ], MSE = 43.97\n",
      "0.021762913579014855\n",
      "Iteration #150: W_new = [45.03156438  3.8181097 ], MSE = 43.97\n",
      "0.019784466890013504\n",
      "Iteration #160: W_new = [45.03718401  3.81709066], MSE = 43.97\n",
      "0.017985878990921366\n",
      "Iteration #170: W_new = [45.04139826  3.81632648], MSE = 43.97\n",
      "0.016350799082655788\n",
      "Iteration #180: W_new = [45.04461494  3.81574318], MSE = 43.97\n",
      "0.014864362802414351\n",
      "Iteration #190: W_new = [45.0471099   3.81529076], MSE = 43.97\n",
      "0.013513057093103954\n",
      "Iteration #200: W_new = [45.04907343  3.8149347 ], MSE = 43.97\n",
      "0.012284597357367229\n",
      "Iteration #210: W_new = [45.05063929  3.81465076], MSE = 43.97\n",
      "0.011167815779424753\n",
      "Iteration #220: W_new = [45.05190307  3.81442159], MSE = 43.97\n",
      "0.010152559799477047\n",
      "Iteration #230: W_new = [45.05293421  3.81423461], MSE = 43.97\n",
      "0.009229599817706406\n",
      "Iteration #240: W_new = [45.05378391  3.81408053], MSE = 43.97\n",
      "0.008390545288824004\n",
      "Iteration #250: W_new = [45.0544904   3.81395242], MSE = 43.97\n",
      "0.007627768444385457\n",
      "Iteration #260: W_new = [45.05508262  3.81384503], MSE = 43.97\n",
      "0.0069343349494413245\n",
      "Iteration #270: W_new = [45.05558275  3.81375434], MSE = 43.97\n",
      "0.006303940863128477\n",
      "Iteration #280: W_new = [45.05600796  3.81367723], MSE = 43.97\n",
      "0.005730855330116797\n",
      "Iteration #290: W_new = [45.05637169  3.81361128], MSE = 43.97\n",
      "0.00520986848192436\n",
      "Iteration #300: W_new = [45.05668455  3.81355454], MSE = 43.97\n",
      "0.004736244074476691\n",
      "Iteration #310: W_new = [45.05695503  3.81350549], MSE = 43.97\n",
      "0.004305676431342446\n",
      "Iteration #320: W_new = [45.05718994  3.8134629 ], MSE = 43.97\n",
      "0.003914251301220405\n",
      "Iteration #330: W_new = [45.05739481  3.81342575], MSE = 43.97\n",
      "0.0035584102738367316\n",
      "Iteration #340: W_new = [45.05757415  3.81339323], MSE = 43.97\n",
      "0.003234918430760665\n",
      "Iteration #350: W_new = [45.05773169  3.81336466], MSE = 43.97\n",
      "0.0029408349370551494\n",
      "Iteration #360: W_new = [45.05787052  3.81333949], MSE = 43.97\n",
      "0.002673486306413772\n",
      "Iteration #370: W_new = [45.05799319  3.81331724], MSE = 43.97\n",
      "0.0024304420967397925\n",
      "Iteration #380: W_new = [45.05810188  3.81329753], MSE = 43.97\n",
      "0.002209492815217993\n",
      "Iteration #390: W_new = [45.0581984   3.81328003], MSE = 43.97\n",
      "0.002008629832016357\n",
      "Iteration #400: W_new = [45.0582843   3.81326445], MSE = 43.97\n",
      "0.0018260271200148698\n",
      "Iteration #410: W_new = [45.05836089  3.81325056], MSE = 43.97\n",
      "0.0016600246545589725\n",
      "Iteration #420: W_new = [45.0584293   3.81323816], MSE = 43.97\n",
      "0.0015091133223263384\n",
      "Iteration #430: W_new = [45.05849051  3.81322706], MSE = 43.97\n",
      "0.001371921202114853\n",
      "Iteration #440: W_new = [45.05854535  3.81321711], MSE = 43.97\n",
      "0.0012472010928316845\n",
      "Iteration #450: W_new = [45.05859456  3.81320819], MSE = 43.97\n",
      "0.0011338191753015312\n",
      "Iteration #460: W_new = [45.05863875  3.81320018], MSE = 43.97\n",
      "0.0010307447048195737\n",
      "Iteration #470: W_new = [45.05867849  3.81319297], MSE = 43.97\n",
      "0.0009370406407450669\n",
      "Iteration #480: W_new = [45.05871426  3.81318648], MSE = 43.97\n",
      "0.0008518551279500608\n",
      "Iteration #490: W_new = [45.05874649  3.81318064], MSE = 43.97\n",
      "0.0007744137526818734\n",
      "Iteration #500: W_new = [45.05877555  3.81317537], MSE = 43.97\n",
      "0.0007040125024380667\n",
      "Iteration #510: W_new = [45.05880177  3.81317062], MSE = 43.97\n",
      "0.0006400113658527879\n",
      "Iteration #520: W_new = [45.05882545  3.81316632], MSE = 43.97\n",
      "0.0005818285144116252\n",
      "Iteration #530: W_new = [45.05884684  3.81316244], MSE = 43.97\n",
      "0.0005289350131014774\n",
      "Iteration #540: W_new = [45.05886618  3.81315894], MSE = 43.97\n",
      "0.00048085001191043396\n",
      "Iteration #550: W_new = [45.05888367  3.81315577], MSE = 43.97\n",
      "0.0004371363744640308\n",
      "Iteration #560: W_new = [45.0588995  3.8131529], MSE = 43.97\n",
      "0.0003973967040582098\n",
      "Iteration #570: W_new = [45.05891382  3.8131503 ], MSE = 43.97\n",
      "0.00036126973096200886\n",
      "Iteration #580: W_new = [45.0589268   3.81314794], MSE = 43.97\n",
      "0.00032842702814728074\n",
      "Iteration #590: W_new = [45.05893856  3.81314581], MSE = 43.97\n",
      "0.00029857002558843703\n",
      "Iteration #600: W_new = [45.05894921  3.81314388], MSE = 43.97\n",
      "0.0002714272959894882\n",
      "Iteration #610: W_new = [45.05895887  3.81314213], MSE = 43.97\n",
      "0.00024675208726317107\n",
      "Iteration #620: W_new = [45.05896762  3.81314054], MSE = 43.97\n",
      "0.0002243200793301555\n",
      "Iteration #630: W_new = [45.05897556  3.8131391 ], MSE = 43.97\n",
      "0.0002039273448455959\n",
      "Iteration #640: W_new = [45.05898277  3.8131378 ], MSE = 43.97\n",
      "0.00018538849531417805\n",
      "Iteration #650: W_new = [45.0589893   3.81313661], MSE = 43.97\n",
      "0.00016853499574016184\n",
      "Iteration #660: W_new = [45.05899523  3.81313554], MSE = 43.97\n",
      "0.00015321363249105622\n",
      "Iteration #670: W_new = [45.05900062  3.81313456], MSE = 43.97\n",
      "0.00013928512044641473\n",
      "Iteration #680: W_new = [45.0590055   3.81313367], MSE = 43.97\n",
      "0.00012662283676946793\n",
      "Iteration #690: W_new = [45.05900994  3.81313287], MSE = 43.97\n",
      "0.00011511166979042538\n",
      "Iteration #700: W_new = [45.05901397  3.81313214], MSE = 43.97\n",
      "0.00010464697253675034\n",
      "Iteration #710: W_new = [45.05901763  3.81313147], MSE = 43.97\n",
      "9.513361139704576e-05\n",
      "Iteration #720: W_new = [45.05902095  3.81313087], MSE = 43.97\n",
      "8.648510127004158e-05\n",
      "Iteration #730: W_new = [45.05902397  3.81313033], MSE = 43.97\n",
      "7.862281933640144e-05\n",
      "Iteration #740: W_new = [45.05902671  3.81312983], MSE = 43.97\n",
      "7.147529030581948e-05\n",
      "Iteration #750: W_new = [45.0590292   3.81312938], MSE = 43.97\n",
      "6.497753664165407e-05\n",
      "Iteration #760: W_new = [45.05903146  3.81312897], MSE = 43.97\n",
      "5.907048785604915e-05\n",
      "Iteration #770: W_new = [45.05903351  3.81312859], MSE = 43.97\n",
      "5.370044350549922e-05\n",
      "Iteration #780: W_new = [45.05903538  3.81312826], MSE = 43.97\n",
      "4.881858500499929e-05\n",
      "Iteration #790: W_new = [45.05903708  3.81312795], MSE = 43.97\n",
      "4.438053182272662e-05\n",
      "Iteration #800: W_new = [45.05903862  3.81312767], MSE = 43.97\n",
      "4.0345938020660563e-05\n",
      "Iteration #810: W_new = [45.05904002  3.81312741], MSE = 43.97\n",
      "3.667812547332778e-05\n",
      "Iteration #820: W_new = [45.05904129  3.81312718], MSE = 43.97\n",
      "3.334375043029798e-05\n",
      "Iteration #830: W_new = [45.05904245  3.81312697], MSE = 43.97\n",
      "3.0312500391179983e-05\n",
      "Iteration #840: W_new = [45.0590435   3.81312678], MSE = 43.97\n",
      "2.7556818537436346e-05\n",
      "Iteration #850: W_new = [45.05904445  3.81312661], MSE = 43.97\n",
      "2.5051653215851223e-05\n",
      "Iteration #860: W_new = [45.05904532  3.81312645], MSE = 43.97\n",
      "2.2774230196228384e-05\n",
      "Iteration #870: W_new = [45.05904611  3.81312631], MSE = 43.97\n",
      "2.0703845632934893e-05\n",
      "Iteration #880: W_new = [45.05904683  3.81312618], MSE = 43.97\n",
      "1.8821677848122628e-05\n",
      "Iteration #890: W_new = [45.05904748  3.81312606], MSE = 43.97\n",
      "1.7110616225566025e-05\n",
      "Iteration #900: W_new = [45.05904807  3.81312595], MSE = 43.97\n",
      "1.5555105659605474e-05\n",
      "Iteration #910: W_new = [45.05904861  3.81312586], MSE = 43.97\n",
      "1.4141005145095884e-05\n",
      "Iteration #920: W_new = [45.0590491   3.81312577], MSE = 43.97\n",
      "1.285545922281444e-05\n",
      "Iteration #930: W_new = [45.05904955  3.81312569], MSE = 43.97\n",
      "1.1686781111649489e-05\n",
      "Iteration #940: W_new = [45.05904995  3.81312561], MSE = 43.97\n",
      "1.0624346465135898e-05\n",
      "Iteration #950: W_new = [45.05905032  3.81312555], MSE = 43.97\n",
      "9.65849678648718e-06\n",
      "Iteration #960: W_new = [45.05905065  3.81312549], MSE = 43.97\n",
      "8.780451624079253e-06\n",
      "Iteration #970: W_new = [45.05905096  3.81312543], MSE = 43.97\n",
      "7.982228749162957e-06\n",
      "Iteration #980: W_new = [45.05905123  3.81312538], MSE = 43.97\n",
      "7.256571590148142e-06\n",
      "Iteration #990: W_new = [45.05905148  3.81312534], MSE = 43.97\n"
     ]
    }
   ],
   "source": [
    "# цикл обучения:\n",
    "for i in range(n_iter):\n",
    "    y_pred = np.dot(X, W) # на каждой итерации смотрим какие предсказания имеются\n",
    "    err = calc_mse(y, y_pred) # среднеквадратическая ошибка\n",
    "    for k in range(W.shape[0]): # изменяем веса в цикле\n",
    "        W[k] -= eta * (1/n * 2 * X[:, k] @ (y_pred - y)) # умножаем скорость обучения на градиент (происходит оптимизация веса)\n",
    "    if i % 10 == 0:\n",
    "        eta /= 1.1 # спасает от расползания ошибки до бесконечности\n",
    "        print(eta)\n",
    "        print(f'Iteration #{i}: W_new = {W}, MSE = {round(err, 2)}')"
   ]
  },
  {
   "cell_type": "markdown",
   "metadata": {},
   "source": [
    "### 2*. В этом коде мы избавляемся от итераций по весам, но тут есть ошибка, исправьте ее"
   ]
  },
  {
   "cell_type": "markdown",
   "metadata": {},
   "source": [
    "Number of objects = 10        \n",
    "Learning rate = 0.01        \n",
    "Initial weights = [1.  0.5] \n",
    "\n",
    "---------------------------------------------------------------------------\n",
    "ValueError                                Traceback (most recent call last)\n",
    "<ipython-input-34-df00614f0fcc> in <module>\n",
    "     15 #         W[k] -= eta * (1/n * 2 * X[:, k] @ (y_pred - y))\n",
    "     16     # ИЗМЕНЕНИЯ\n",
    "---> 17     W -= eta * (1/n * 2 * np.dot(X, y_pred - y))\n",
    "     18     #\n",
    "     19     if i % 10 == 0:\n",
    "\n",
    "<__array_function__ internals> in dot(*args, **kwargs)\n",
    "\n",
    "ValueError: shapes (10,2) and (10,) not aligned: 2 (dim 1) != 10 (dim 0)\n",
    "   \n",
    "    Матрицы можно перемножить только если количество столбцов одной матрицы совпадают с количеством строк другой.\n",
    "    В данном случае видим несовпадение, значит нам нужно матрицу Х транспонировать."
   ]
  },
  {
   "cell_type": "code",
   "execution_count": 109,
   "metadata": {},
   "outputs": [
    {
     "name": "stdout",
     "output_type": "stream",
     "text": [
      "Number of objects = 10        \n",
      "Learning rate = 0.01        \n",
      "Initial weights = [1.  0.5] \n",
      "\n",
      "Iteration #0: W_new = [2.08 4.27], MSE = 3047.75\n",
      "Iteration #10: W_new = [ 7.0011236 10.6169007], MSE = 738.65\n",
      "Iteration #20: W_new = [10.3486292  10.10603105], MSE = 622.03\n",
      "Iteration #30: W_new = [13.38789582  9.55618391], MSE = 525.24\n",
      "Iteration #40: W_new = [16.16088505  9.05336203], MSE = 444.66\n",
      "Iteration #50: W_new = [18.69110735  8.59454545], MSE = 377.58\n",
      "Iteration #60: W_new = [20.99981865  8.17589626], MSE = 321.72\n",
      "Iteration #70: W_new = [23.10641138  7.79389815], MSE = 275.22\n",
      "Iteration #80: W_new = [25.02858024  7.44534246], MSE = 236.5\n",
      "Iteration #90: W_new = [26.78247081  7.12730145], MSE = 204.27\n"
     ]
    }
   ],
   "source": [
    "n = X.shape[0]\n",
    "\n",
    "eta = 1e-2 \n",
    "n_iter = 100\n",
    "\n",
    "W = np.array([1, 0.5])\n",
    "print(f'Number of objects = {n} \\\n",
    "       \\nLearning rate = {eta} \\\n",
    "       \\nInitial weights = {W} \\n')\n",
    "\n",
    "for i in range(n_iter):\n",
    "    y_pred = np.dot(X, W)\n",
    "    err = calc_mse(y, y_pred)\n",
    "#     for k in range(W.shape[0]):\n",
    "#         W[k] -= eta * (1/n * 2 * X[:, k] @ (y_pred - y))\n",
    "    # ИЗМЕНЕНИЯ: транспонируем матрицу\n",
    "    W -= eta * (1/n * 2 * np.dot(X.T, y_pred - y))\n",
    "    #\n",
    "    if i % 10 == 0:\n",
    "        print(f'Iteration #{i}: W_new = {W}, MSE = {round(err,2)}')\n"
   ]
  },
  {
   "cell_type": "markdown",
   "metadata": {},
   "source": [
    "### 3*. Вместо того, чтобы задавать количество итераций, задайте другое условие останова алгоритма - когда веса перестают изменяться меньше определенного порога  𝜖 ."
   ]
  },
  {
   "cell_type": "markdown",
   "metadata": {},
   "source": [
    "Норма — функционал, заданный на векторном пространстве и обобщающий понятие длины вектора или абсолютного значения числа.\n"
   ]
  },
  {
   "cell_type": "code",
   "execution_count": 110,
   "metadata": {},
   "outputs": [],
   "source": [
    "# зададим векторы\n",
    "weights0 = np.array([0.5, 0.5])\n",
    "weights1 = np.array([2.5, 1.5])\n"
   ]
  },
  {
   "cell_type": "code",
   "execution_count": 111,
   "metadata": {},
   "outputs": [
    {
     "data": {
      "text/plain": [
       "2.23606797749979"
      ]
     },
     "execution_count": 111,
     "metadata": {},
     "output_type": "execute_result"
    }
   ],
   "source": [
    "# найдем растояние между весами (векторами)\n",
    "np.linalg.norm(weights0 - weights1, ord=2)"
   ]
  },
  {
   "cell_type": "code",
   "execution_count": 112,
   "metadata": {},
   "outputs": [],
   "source": [
    "# визуализируем\n",
    "def plot_vectors(a, b):\n",
    "    fig, ax = plt.subplots(figsize=(8, 5))\n",
    "    ax.plot([a[0]], [a[1]], '*', c='r')\n",
    "    ax.plot([b[0]], [b[1]], '+', c='g')\n",
    "    ax.set_xlabel('X')\n",
    "    ax.set_ylabel('Y')\n",
    "    return ax"
   ]
  },
  {
   "cell_type": "code",
   "execution_count": 113,
   "metadata": {},
   "outputs": [
    {
     "data": {
      "image/png": "[encoded data removed]",
      "text/plain": [
       "<Figure size 576x360 with 1 Axes>"
      ]
     },
     "metadata": {
      "needs_background": "light"
     },
     "output_type": "display_data"
    }
   ],
   "source": [
    "ax = plot_vectors(weights0, weights1)\n",
    "ax.plot([weights0[0], weights1[0]], [weights0[1], weights1[1]]);"
   ]
  },
  {
   "cell_type": "markdown",
   "metadata": {},
   "source": [
    "L2 norm / Евклидова метрика:\n",
    "Евклидова метрика (евклидово расстояние) — метрика в евклидовом пространстве — расстояние между двумя точками евклидова пространства, вычисляемое по теореме Пифагора. \n",
    "\n",
    "a ** 2 + b ** 2 = c ** 2\n"
   ]
  },
  {
   "cell_type": "code",
   "execution_count": 114,
   "metadata": {},
   "outputs": [
    {
     "data": {
      "text/plain": [
       "2.23606797749979"
      ]
     },
     "execution_count": 114,
     "metadata": {},
     "output_type": "execute_result"
    }
   ],
   "source": [
    "# найдем растояние между весами (векторами)\n",
    "((weights1[0]-weights0[0])**2 + (weights1[1] - weights0[1])**2)**0.5"
   ]
  },
  {
   "cell_type": "code",
   "execution_count": 115,
   "metadata": {},
   "outputs": [
    {
     "data": {
      "image/png": "[encoded data removed]",
      "text/plain": [
       "<Figure size 576x360 with 1 Axes>"
      ]
     },
     "metadata": {
      "needs_background": "light"
     },
     "output_type": "display_data"
    }
   ],
   "source": [
    "# визуализируем\n",
    "ax = plot_vectors(weights0, weights1)\n",
    "ax.plot([weights0[0], weights1[0]], [weights0[1], weights0[1]], c='b')\n",
    "ax.plot([weights1[0], weights1[0]], [weights0[1], weights1[1]], c='b');"
   ]
  },
  {
   "cell_type": "markdown",
   "metadata": {},
   "source": [
    "L1 norm / Расстояние городских кварталов:\n",
    "Расстояние городских кварталов d1 между двумя векторами p,q в n-мерном вещественном векторном пространстве с заданной системой координат — сумма длин проекций отрезка между точками на оси координат. на плоскости расстояние городских кварталов между (p_{1},p_{2}) и  (q_{1},q_{2}) равно |p_{1}-q_{1}|+|p_{2}-q_{2}|.\n",
    "\n",
    "abs(p1-q1) + abs(p2-q2)\n"
   ]
  },
  {
   "cell_type": "code",
   "execution_count": 116,
   "metadata": {},
   "outputs": [
    {
     "data": {
      "text/plain": [
       "3.0"
      ]
     },
     "execution_count": 116,
     "metadata": {},
     "output_type": "execute_result"
    }
   ],
   "source": [
    "abs(weights1[0]-weights0[0]) + abs(weights1[1] - weights0[1])\n"
   ]
  },
  {
   "cell_type": "markdown",
   "metadata": {},
   "source": [
    "У нас получилось 3 варианта расстояний, можем брать любое, чаще всего это l1 или l2."
   ]
  },
  {
   "cell_type": "code",
   "execution_count": 117,
   "metadata": {},
   "outputs": [
    {
     "name": "stdout",
     "output_type": "stream",
     "text": [
      "Number of objects = 10        \n",
      "Learning rate = 0.01        \n",
      "Initial weights = [0.5 0.5] \n",
      "\n",
      "Iteration #0: W_new = [1.59 4.3 ], MSE = 3102.0\n",
      "Iteration #10: W_new = [ 6.56331187 10.69550943], MSE = 754.73\n",
      "Iteration #20: W_new = [ 9.94926955 10.17843838], MSE = 635.4\n",
      "Iteration #30: W_new = [13.02350016  9.62226131], MSE = 536.38\n",
      "Iteration #40: W_new = [15.82839082  9.11365473], MSE = 453.94\n",
      "Iteration #50: W_new = [18.38772168  8.64955977], MSE = 385.3\n",
      "Iteration #60: W_new = [20.72299319  8.22609429], MSE = 328.15\n",
      "Iteration #70: W_new = [22.8538209   7.83970154], MSE = 280.57\n",
      "Iteration #80: W_new = [24.79810306  7.48713594], MSE = 240.96\n",
      "Iteration #90: W_new = [26.572171    7.16543608], MSE = 207.97\n",
      "Iteration #100: W_new = [28.19092629  6.87189976], MSE = 180.52\n",
      "Iteration #110: W_new = [29.66796594  6.60406139], MSE = 157.65\n",
      "Iteration #120: W_new = [31.01569661  6.35967122], MSE = 138.62\n",
      "Iteration #130: W_new = [32.24543878  6.13667644], MSE = 122.77\n",
      "Iteration #140: W_new = [33.36752188  5.93320397], MSE = 109.58\n",
      "Iteration #150: W_new = [34.39137104  5.74754471], MSE = 98.59\n",
      "Iteration #160: W_new = [35.32558624  5.57813918], MSE = 89.45\n",
      "Iteration #170: W_new = [36.17801459  5.42356445], MSE = 81.83\n",
      "Iteration #180: W_new = [36.95581621  5.28252212], MSE = 75.49\n",
      "Iteration #190: W_new = [37.66552436  5.15382748], MSE = 70.22\n",
      "Iteration #200: W_new = [38.31310037  5.03639956], MSE = 65.82\n",
      "Iteration #210: W_new = [38.90398366  4.92925199], MSE = 62.16\n",
      "Iteration #220: W_new = [39.44313744  4.83148476], MSE = 59.12\n",
      "Iteration #230: W_new = [39.93509045  4.74227667], MSE = 56.58\n",
      "Iteration #240: W_new = [40.38397491  4.66087839], MSE = 54.47\n",
      "Iteration #250: W_new = [40.7935613   4.58660621], MSE = 52.71\n",
      "Iteration #260: W_new = [41.16729003  4.51883627], MSE = 51.25\n",
      "Iteration #270: W_new = [41.50830028  4.45699932], MSE = 50.03\n",
      "Iteration #280: W_new = [41.81945643  4.40057595], MSE = 49.01\n",
      "Iteration #290: W_new = [42.10337209  4.34909222], MSE = 48.17\n",
      "Iteration #300: W_new = [42.36243205  4.30211569], MSE = 47.47\n",
      "Iteration #310: W_new = [42.59881234  4.25925177], MSE = 46.88\n",
      "Iteration #320: W_new = [42.81449847  4.22014042], MSE = 46.39\n",
      "Iteration #330: W_new = [43.01130213  4.18445311], MSE = 45.99\n",
      "Iteration #340: W_new = [43.1908764   4.15189008], MSE = 45.65\n",
      "Iteration #350: W_new = [43.35472966  4.12217782], MSE = 45.37\n",
      "Iteration #360: W_new = [43.50423821  4.09506675], MSE = 45.13\n",
      "Iteration #370: W_new = [43.64065787  4.07032915], MSE = 44.94\n",
      "Iteration #380: W_new = [43.76513454  4.04775722], MSE = 44.78\n",
      "Iteration #390: W_new = [43.87871376  4.02716138], MSE = 44.64\n",
      "Iteration #400: W_new = [43.98234957  4.00836863], MSE = 44.53\n",
      "Iteration #410: W_new = [44.07691248  3.9912211 ], MSE = 44.43\n",
      "Iteration #420: W_new = [44.16319677  3.97557477], MSE = 44.36\n",
      "Iteration #430: W_new = [44.24192722  3.96129822], MSE = 44.29\n",
      "Iteration #440: W_new = [44.31376512  3.94827153], MSE = 44.24\n",
      "Iteration #450: W_new = [44.37931391  3.93638526], MSE = 44.19\n",
      "Iteration #460: W_new = [44.43912415  3.9255396 ], MSE = 44.16\n",
      "Iteration #470: W_new = [44.49369825  3.91564343], MSE = 44.12\n",
      "Iteration #480: W_new = [44.54349459  3.90661363], MSE = 44.1\n",
      "Iteration #490: W_new = [44.58893147  3.89837435], MSE = 44.08\n",
      "Iteration #500: W_new = [44.63039052  3.89085639], MSE = 44.06\n",
      "Iteration #510: W_new = [44.66822    3.8839966], MSE = 44.04\n",
      "Iteration #520: W_new = [44.70273766  3.87773735], MSE = 44.03\n",
      "Iteration #530: W_new = [44.73423343  3.87202608], MSE = 44.02\n",
      "Iteration #540: W_new = [44.76297187  3.86681481], MSE = 44.01\n",
      "Iteration #550: W_new = [44.78919438  3.86205976], MSE = 44.0\n",
      "Iteration #560: W_new = [44.81312121  3.857721  ], MSE = 44.0\n",
      "Iteration #570: W_new = [44.83495333  3.85376208], MSE = 43.99\n",
      "Iteration #580: W_new = [44.85487415  3.85014975], MSE = 43.99\n",
      "Iteration #590: W_new = [44.87305097  3.84685366], MSE = 43.99\n",
      "Iteration #600: W_new = [44.88963648  3.84384613], MSE = 43.98\n",
      "Iteration #610: W_new = [44.90477    3.8411019], MSE = 43.98\n",
      "Iteration #620: W_new = [44.91857864  3.83859792], MSE = 43.98\n",
      "Iteration #630: W_new = [44.93117839  3.83631315], MSE = 43.98\n",
      "Iteration #640: W_new = [44.94267508  3.8342284 ], MSE = 43.98\n",
      "Iteration #650: W_new = [44.95316528  3.83232617], MSE = 43.97\n",
      "Iteration #660: W_new = [44.9627371   3.83059046], MSE = 43.97\n",
      "Iteration #670: W_new = [44.97147095  3.82900672], MSE = 43.97\n",
      "Iteration #680: W_new = [44.97944018  3.82756162], MSE = 43.97\n",
      "Iteration #690: W_new = [44.98671174  3.82624303], MSE = 43.97\n",
      "Iteration #700: W_new = [44.9933467   3.82503988], MSE = 43.97\n",
      "Iteration #710: W_new = [44.9994008   3.82394207], MSE = 43.97\n",
      "Iteration #720: W_new = [45.00492489  3.82294036], MSE = 43.97\n",
      "Iteration #730: W_new = [45.00996536  3.82202635], MSE = 43.97\n",
      "Iteration #740: W_new = [45.01456456  3.82119235], MSE = 43.97\n",
      "Iteration #750: W_new = [45.01876112  3.82043137], MSE = 43.97\n",
      "Iteration #760: W_new = [45.02259029  3.81973701], MSE = 43.97\n",
      "Iteration #770: W_new = [45.02608422  3.81910344], MSE = 43.97\n",
      "Iteration #780: W_new = [45.02927228  3.81852533], MSE = 43.97\n",
      "Iteration #790: W_new = [45.03218124  3.81799784], MSE = 43.97\n",
      "Iteration #800: W_new = [45.03483552  3.81751653], MSE = 43.97\n",
      "Iteration #810: W_new = [45.03725744  3.81707735], MSE = 43.97\n",
      "Iteration #820: W_new = [45.03946733  3.81667662], MSE = 43.97\n",
      "Iteration #830: W_new = [45.04148375  3.81631097], MSE = 43.97\n",
      "Iteration #840: W_new = [45.04332364  3.81597734], MSE = 43.97\n",
      "Iteration #850: W_new = [45.04500245  3.81567291], MSE = 43.97\n",
      "Iteration #860: W_new = [45.04653429  3.81539513], MSE = 43.97\n",
      "Iteration #870: W_new = [45.04793203  3.81514168], MSE = 43.97\n",
      "Iteration #880: W_new = [45.0492074   3.81491041], MSE = 43.97\n",
      "Iteration #890: W_new = [45.05037111  3.81469939], MSE = 43.97\n",
      "Iteration #900: W_new = [45.05143295  3.81450684], MSE = 43.97\n",
      "Iteration #910: W_new = [45.05240182  3.81433115], MSE = 43.97\n",
      "Iteration #920: W_new = [45.05328588  3.81417084], MSE = 43.97\n",
      "Iteration #930: W_new = [45.05409254  3.81402456], MSE = 43.97\n",
      "Iteration #940: W_new = [45.05482858  3.81389109], MSE = 43.97\n",
      "Iteration #950: W_new = [45.05550018  3.81376931], MSE = 43.97\n",
      "Iteration #960: W_new = [45.05611299  3.81365819], MSE = 43.97\n",
      "Iteration #970: W_new = [45.05667215  3.81355679], MSE = 43.97\n",
      "Iteration #980: W_new = [45.05718235  3.81346427], MSE = 43.97\n",
      "Iteration #990: W_new = [45.05764789  3.81337986], MSE = 43.97\n",
      "Iteration #1000: W_new = [45.05807267  3.81330283], MSE = 43.97\n",
      "Iteration #1010: W_new = [45.05846027  3.81323254], MSE = 43.97\n",
      "Iteration #1020: W_new = [45.05881393  3.81316841], MSE = 43.97\n",
      "Iteration #1030: W_new = [45.05913663  3.81310989], MSE = 43.97\n",
      "Iteration #1040: W_new = [45.05943108  3.8130565 ], MSE = 43.97\n",
      "Iteration #1050: W_new = [45.05969975  3.81300778], MSE = 43.97\n",
      "Iteration #1060: W_new = [45.0599449   3.81296333], MSE = 43.97\n",
      "Iteration #1070: W_new = [45.06016859  3.81292276], MSE = 43.97\n",
      "Iteration #1080: W_new = [45.0603727   3.81288575], MSE = 43.97\n",
      "Iteration #1090: W_new = [45.06055893  3.81285198], MSE = 43.97\n",
      "Iteration #1100: W_new = [45.06072887  3.81282117], MSE = 43.97\n",
      "Iteration #1110: W_new = [45.06088392  3.81279305], MSE = 43.97\n",
      "Iteration #1120: W_new = [45.0610254  3.8127674], MSE = 43.97\n",
      "Iteration #1130: W_new = [45.0611545   3.81274399], MSE = 43.97\n",
      "Iteration #1140: W_new = [45.06127229  3.81272263], MSE = 43.97\n",
      "Iteration #1150: W_new = [45.06137977  3.81270314], MSE = 43.97\n"
     ]
    }
   ],
   "source": [
    "n = X.shape[0]\n",
    "\n",
    "eta = 1e-2 \n",
    "epsilon = 1e-5\n",
    "iter_num = 0\n",
    "\n",
    "# инициализируем веса маленькими величинами\n",
    "W = np.array([0.5, 0.5])\n",
    "\n",
    "print(f'Number of objects = {n} \\\n",
    "       \\nLearning rate = {eta} \\\n",
    "       \\nInitial weights = {W} \\n')\n",
    "\n",
    "# задаем изначально бесконечно большое число\n",
    "weight_dist = np.inf\n",
    "\n",
    "while weight_dist > epsilon:\n",
    "    y_pred = np.dot(X, W)\n",
    "    err = calc_mse(y, y_pred)\n",
    "# умножаем скорость обучения на градиент (происходит оптимизация веса)\n",
    "    W_new = W - eta * (1/n * 2 * np.dot(X.T, y_pred - y))\n",
    "    \n",
    "# находим растояние между весами (векторами)    \n",
    "    weight_dist = np.linalg.norm(W_new - W, ord=2)\n",
    "    \n",
    "    W = W_new.copy()\n",
    "    \n",
    "    if iter_num % 10 == 0:\n",
    "        print(f'Iteration #{iter_num}: W_new = {W}, MSE = {round(err,2)}')\n",
    "    iter_num += 1"
   ]
  },
  {
   "cell_type": "code",
   "execution_count": null,
   "metadata": {},
   "outputs": [],
   "source": []
  }
 ],
 "metadata": {
  "kernelspec": {
   "display_name": "Python 3",
   "language": "python",
   "name": "python3"
  },
  "language_info": {
   "codemirror_mode": {
    "name": "ipython",
    "version": 3
   },
   "file_extension": ".py",
   "mimetype": "text/x-python",
   "name": "python",
   "nbconvert_exporter": "python",
   "pygments_lexer": "ipython3",
   "version": "3.8.3"
  }
 },
 "nbformat": 4,
 "nbformat_minor": 4
}
