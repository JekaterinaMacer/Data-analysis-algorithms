{
 "cells": [
  {
   "cell_type": "markdown",
   "metadata": {
    "colab_type": "text",
    "id": "SLiBxjBJ9IMs"
   },
   "source": [
    "# Урок 1. Алгоритм линейной регрессии. Градиентный спуск."
   ]
  },
  {
   "cell_type": "code",
   "execution_count": 15,
   "metadata": {
    "colab": {},
    "colab_type": "code",
    "id": "bJ1KA9cq9INW"
   },
   "outputs": [],
   "source": [
    "import numpy as np\n",
    "import matplotlib.pyplot as plt\n",
    "from mpl_toolkits.mplot3d.axes3d import Axes3D"
   ]
  },
  {
   "cell_type": "markdown",
   "metadata": {},
   "source": [
    "## Домашнее задание <a class=\"anchor\" id=\"hw\"></a><center>"
   ]
  },
  {
   "cell_type": "markdown",
   "metadata": {
    "colab_type": "text",
    "id": "huXrhXQsZTMt"
   },
   "source": [
    "### 1. Подберите скорость обучения (eta) и количество итераций"
   ]
  },
  {
   "cell_type": "code",
   "execution_count": 16,
   "metadata": {},
   "outputs": [],
   "source": [
    "X = np.array([[ 1,  1],\n",
    "              [ 1,  1],\n",
    "              [ 1,  2],\n",
    "              [ 1,  5],\n",
    "              [ 1,  3],\n",
    "              [ 1,  0],\n",
    "              [ 1,  5],\n",
    "              [ 1, 10],\n",
    "              [ 1,  1],\n",
    "              [ 1,  2]])\n",
    "y = [45, 55, 50, 55, 60, 35, 75, 80, 50, 60]"
   ]
  },
  {
   "cell_type": "code",
   "execution_count": 17,
   "metadata": {},
   "outputs": [],
   "source": [
    "def calc_mae(y, y_pred):\n",
    "    err = np.mean(np.abs(y - y_pred))\n",
    "    return err\n",
    "\n",
    "def calc_mse(y, y_pred):\n",
    "    err = np.mean((y - y_pred)**2)\n",
    "    return err"
   ]
  },
  {
   "cell_type": "code",
   "execution_count": 18,
   "metadata": {
    "colab": {
     "base_uri": "https://localhost:8080/",
     "height": 185
    },
    "colab_type": "code",
    "id": "IDB22MQKMYaJ",
    "outputId": "4c03219e-a57c-4583-f439-6699fd0619bb"
   },
   "outputs": [
    {
     "name": "stdout",
     "output_type": "stream",
     "text": [
      "Number of objects = 10        \n",
      "Learning rate = 0.1        \n",
      "Initial weights = [0.5 0.5] \n",
      "\n",
      "Iteration #0: W_new = [11.4 38.5], MSE = 3102.0\n",
      "Iteration #10: W_new = [12752.8082105  70175.53377537], MSE = 18605907474.13\n",
      "Iteration #20: W_new = [ 7794462.78878402 42983671.5156699 ], MSE = 9275866959916852.0\n",
      "Iteration #30: W_new = [1.07197580e+09 5.91159034e+09], MSE = 2.3654185763886816e+20\n",
      "Iteration #40: W_new = [3.02534648e+10 1.66837812e+11], MSE = 2.5861306182234217e+23\n",
      "Iteration #50: W_new = [1.56591497e+11 8.63550102e+11], MSE = 9.726486449868705e+24\n",
      "Iteration #60: W_new = [1.28767019e+11 7.10107349e+11], MSE = 9.502114053142176e+24\n",
      "Iteration #70: W_new = [1.39250106e+10 7.67918089e+10], MSE = 1.667289958811078e+23\n",
      "Iteration #80: W_new = [1.52890895e+08 8.43142271e+08], MSE = 3.175879727287169e+19\n",
      "Iteration #90: W_new = [117328.84387172 646785.89212586], MSE = 31821746616003.92\n",
      "Iteration #100: W_new = [48.44615246 23.15282911], MSE = 54380.24\n",
      "Iteration #110: W_new = [44.976156    3.82816535], MSE = 43.97\n",
      "Iteration #120: W_new = [44.99820632  3.82415867], MSE = 43.97\n",
      "Iteration #130: W_new = [45.01330768  3.82142027], MSE = 43.97\n",
      "Iteration #140: W_new = [45.02392322  3.8194953 ], MSE = 43.97\n",
      "Iteration #150: W_new = [45.03156438  3.8181097 ], MSE = 43.97\n",
      "Iteration #160: W_new = [45.03718401  3.81709066], MSE = 43.97\n",
      "Iteration #170: W_new = [45.04139826  3.81632648], MSE = 43.97\n",
      "Iteration #180: W_new = [45.04461494  3.81574318], MSE = 43.97\n",
      "Iteration #190: W_new = [45.0471099   3.81529076], MSE = 43.97\n",
      "Iteration #200: W_new = [45.04907343  3.8149347 ], MSE = 43.97\n",
      "Iteration #210: W_new = [45.05063929  3.81465076], MSE = 43.97\n",
      "Iteration #220: W_new = [45.05190307  3.81442159], MSE = 43.97\n",
      "Iteration #230: W_new = [45.05293421  3.81423461], MSE = 43.97\n",
      "Iteration #240: W_new = [45.05378391  3.81408053], MSE = 43.97\n"
     ]
    }
   ],
   "source": [
    "n = X.shape[0]\n",
    "\n",
    "\n",
    "\n",
    "# ИЗМЕНЕНИЯ\n",
    "eta = 1e-1 \n",
    "n_iter = 250\n",
    "W = np.array([0.5, 0.5])\n",
    "# ИЗМЕНЕНИЯ\n",
    "\n",
    "\n",
    "print(f'Number of objects = {n} \\\n",
    "       \\nLearning rate = {eta} \\\n",
    "       \\nInitial weights = {W} \\n')\n",
    "\n",
    "for i in range(n_iter):\n",
    "    y_pred = np.dot(X, W)\n",
    "    err = calc_mse(y, y_pred)\n",
    "    for k in range(W.shape[0]):\n",
    "        W[k] -= eta * (1/n * 2 * X[:, k] @ (y_pred - y))\n",
    "    if i % 10 == 0:\n",
    "        eta /= 1.1\n",
    "        print(f'Iteration #{i}: W_new = {W}, MSE = {round(err, 2)}')"
   ]
  },
  {
   "cell_type": "markdown",
   "metadata": {
    "colab_type": "text",
    "id": "5Qu1o4JhZYwI"
   },
   "source": [
    "### 2*. В этом коде мы избавляемся от итераций по весам, но тут есть ошибка, исправьте ее"
   ]
  },
  {
   "cell_type": "code",
   "execution_count": 24,
   "metadata": {},
   "outputs": [
    {
     "name": "stdout",
     "output_type": "stream",
     "text": [
      "Number of objects = 10        \n",
      "Learning rate = 0.01        \n",
      "Initial weights = [1.  0.5] \n",
      "\n",
      "Iteration #0: W_new = [2.08 4.27], MSE = 3047.75\n",
      "Iteration #10: W_new = [ 7.0011236 10.6169007], MSE = 738.65\n",
      "Iteration #20: W_new = [10.3486292  10.10603105], MSE = 622.03\n",
      "Iteration #30: W_new = [13.38789582  9.55618391], MSE = 525.24\n",
      "Iteration #40: W_new = [16.16088505  9.05336203], MSE = 444.66\n",
      "Iteration #50: W_new = [18.69110735  8.59454545], MSE = 377.58\n",
      "Iteration #60: W_new = [20.99981865  8.17589626], MSE = 321.72\n",
      "Iteration #70: W_new = [23.10641138  7.79389815], MSE = 275.22\n",
      "Iteration #80: W_new = [25.02858024  7.44534246], MSE = 236.5\n",
      "Iteration #90: W_new = [26.78247081  7.12730145], MSE = 204.27\n",
      "Iteration #100: W_new = [28.38281518  6.83710367], MSE = 177.43\n",
      "Iteration #110: W_new = [29.84305573  6.57231156], MSE = 155.08\n",
      "Iteration #120: W_new = [31.17545797  6.33070096], MSE = 136.48\n",
      "Iteration #130: W_new = [32.39121367  6.11024241], MSE = 120.99\n",
      "Iteration #140: W_new = [33.50053475  5.90908413], MSE = 108.09\n",
      "Iteration #150: W_new = [34.51273915  5.72553647], MSE = 97.36\n",
      "Iteration #160: W_new = [35.43632906  5.55805768], MSE = 88.42\n",
      "Iteration #170: W_new = [36.27906231  5.405241  ], MSE = 80.98\n",
      "Iteration #180: W_new = [37.0480176   5.26580281], MSE = 74.78\n",
      "Iteration #190: W_new = [37.74965389  5.13857189], MSE = 69.62\n",
      "Iteration #200: W_new = [38.38986469  5.02247953], MSE = 65.33\n",
      "Iteration #210: W_new = [38.97402756  4.9165506 ], MSE = 61.75\n",
      "Iteration #220: W_new = [39.50704928  4.81989533], MSE = 58.77\n",
      "Iteration #230: W_new = [39.99340705  4.73170185], MSE = 56.29\n",
      "Iteration #240: W_new = [40.43718613  4.65122936], MSE = 54.23\n",
      "Iteration #250: W_new = [40.84211409  4.57780191], MSE = 52.51\n",
      "Iteration #260: W_new = [41.21159221  4.51080275], MSE = 51.08\n",
      "Iteration #270: W_new = [41.54872398  4.4496691 ], MSE = 49.89\n",
      "Iteration #280: W_new = [41.8563412   4.39388747], MSE = 48.9\n",
      "Iteration #290: W_new = [42.13702774  4.34298929], MSE = 48.07\n",
      "Iteration #300: W_new = [42.39314129  4.29654705], MSE = 47.39\n",
      "Iteration #310: W_new = [42.6268331   4.25417064], MSE = 46.81\n",
      "Iteration #320: W_new = [42.84006612  4.21550412], MSE = 46.34\n",
      "Iteration #330: W_new = [43.03463143  4.1802227 ], MSE = 45.94\n",
      "Iteration #340: W_new = [43.21216332  4.14803003], MSE = 45.61\n",
      "Iteration #350: W_new = [43.37415299  4.1186557 ], MSE = 45.34\n",
      "Iteration #360: W_new = [43.5219611   4.09185298], MSE = 45.11\n",
      "Iteration #370: W_new = [43.6568292   4.06739673], MSE = 44.92\n",
      "Iteration #380: W_new = [43.77989013  4.04508153], MSE = 44.76\n",
      "Iteration #390: W_new = [43.89217756  4.02471993], MSE = 44.63\n",
      "Iteration #400: W_new = [43.99463466  4.00614091], MSE = 44.52\n",
      "Iteration #410: W_new = [44.08812206  3.98918842], MSE = 44.42\n",
      "Iteration #420: W_new = [44.173425    3.97372004], MSE = 44.35\n",
      "Iteration #430: W_new = [44.25126001  3.95960587], MSE = 44.28\n",
      "Iteration #440: W_new = [44.32228086  3.94672733], MSE = 44.23\n",
      "Iteration #450: W_new = [44.38708413  3.93497626], MSE = 44.19\n",
      "Iteration #460: W_new = [44.44621412  3.92425394], MSE = 44.15\n",
      "Iteration #470: W_new = [44.50016751  3.91447033], MSE = 44.12\n",
      "Iteration #480: W_new = [44.5493975   3.90554323], MSE = 44.1\n",
      "Iteration #490: W_new = [44.5943176   3.89739766], MSE = 44.07\n",
      "Iteration #500: W_new = [44.63530512  3.8899652 ], MSE = 44.06\n",
      "Iteration #510: W_new = [44.67270435  3.88318343], MSE = 44.04\n",
      "Iteration #520: W_new = [44.70682942  3.87699538], MSE = 44.03\n",
      "Iteration #530: W_new = [44.73796697  3.87134906], MSE = 44.02\n",
      "Iteration #540: W_new = [44.76637856  3.86619706], MSE = 44.01\n",
      "Iteration #550: W_new = [44.79230282  3.86149609], MSE = 44.0\n",
      "Iteration #560: W_new = [44.81595752  3.85720668], MSE = 44.0\n",
      "Iteration #570: W_new = [44.83754134  3.85329279], MSE = 43.99\n",
      "Iteration #580: W_new = [44.85723558  3.84972154], MSE = 43.99\n",
      "Iteration #590: W_new = [44.87520567  3.84646294], MSE = 43.99\n",
      "Iteration #600: W_new = [44.89160255  3.84348962], MSE = 43.98\n",
      "Iteration #610: W_new = [44.90656394  3.8407766 ], MSE = 43.98\n",
      "Iteration #620: W_new = [44.92021553  3.83830109], MSE = 43.98\n",
      "Iteration #630: W_new = [44.93267197  3.83604231], MSE = 43.98\n",
      "Iteration #640: W_new = [44.94403791  3.83398127], MSE = 43.98\n",
      "Iteration #650: W_new = [44.95440879  3.83210067], MSE = 43.97\n",
      "Iteration #660: W_new = [44.96387175  3.83038471], MSE = 43.97\n",
      "Iteration #670: W_new = [44.97250627  3.82881898], MSE = 43.97\n",
      "Iteration #680: W_new = [44.98038486  3.82739031], MSE = 43.97\n",
      "Iteration #690: W_new = [44.98757372  3.82608673], MSE = 43.97\n"
     ]
    }
   ],
   "source": [
    "n = X.shape[0]\n",
    "\n",
    "eta = 1e-2 \n",
    "n_iter = 700\n",
    "\n",
    "W = np.array([1, 0.5])\n",
    "print(f'Number of objects = {n} \\\n",
    "       \\nLearning rate = {eta} \\\n",
    "       \\nInitial weights = {W} \\n')\n",
    "\n",
    "for i in range(n_iter):\n",
    "    y_pred = np.dot(X, W)\n",
    "    err = calc_mse(y, y_pred)\n",
    "#     for k in range(W.shape[0]):\n",
    "#         W[k] -= eta * (1/n * 2 * X[:, k] @ (y_pred - y))\n",
    "\n",
    "     # ИЗМЕНЕНИЯ: транспонируем матрицу\n",
    "    W -= eta * (1/n * 2 * np.dot(X.T, y_pred - y))\n",
    "    # ИЗМЕНЕНИЯ\n",
    "    #\n",
    "    if i % 10 == 0:\n",
    "        print(f'Iteration #{i}: W_new = {W}, MSE = {round(err,2)}')"
   ]
  },
  {
   "cell_type": "markdown",
   "metadata": {},
   "source": [
    "### 3*. Вместо того, чтобы задавать количество итераций, задайте другое условие останова алгоритма - когда веса перестают изменяться меньше определенного порога $\\epsilon$."
   ]
  },
  {
   "cell_type": "markdown",
   "metadata": {},
   "source": [
    "Норма — функционал, заданный на векторном пространстве и обобщающий понятие длины вектора или абсолютного значения числа.\n"
   ]
  },
  {
   "cell_type": "code",
   "execution_count": 25,
   "metadata": {},
   "outputs": [],
   "source": [
    "# зададим векторы\n",
    "weights0 = np.array([0.5, 0.5])\n",
    "weights1 = np.array([2.5, 1.5])\n"
   ]
  },
  {
   "cell_type": "code",
   "execution_count": 26,
   "metadata": {},
   "outputs": [
    {
     "data": {
      "text/plain": [
       "2.23606797749979"
      ]
     },
     "execution_count": 26,
     "metadata": {},
     "output_type": "execute_result"
    }
   ],
   "source": [
    "# найдем растояние между весами (векторами)\n",
    "np.linalg.norm(weights0 - weights1, ord=2)"
   ]
  },
  {
   "cell_type": "code",
   "execution_count": 27,
   "metadata": {},
   "outputs": [],
   "source": [
    "# визуализируем\n",
    "def plot_vectors(a, b):\n",
    "    fig, ax = plt.subplots(figsize=(8, 5))\n",
    "    ax.plot([a[0]], [a[1]], '*', c='r')\n",
    "    ax.plot([b[0]], [b[1]], '+', c='g')\n",
    "    ax.set_xlabel('X')\n",
    "    ax.set_ylabel('Y')\n",
    "    return ax"
   ]
  },
  {
   "cell_type": "code",
   "execution_count": 28,
   "metadata": {},
   "outputs": [
    {
     "data": {
      "image/png": "[encoded data removed]",
      "text/plain": [
       "<Figure size 576x360 with 1 Axes>"
      ]
     },
     "metadata": {
      "needs_background": "light"
     },
     "output_type": "display_data"
    }
   ],
   "source": [
    "ax = plot_vectors(weights0, weights1)\n",
    "ax.plot([weights0[0], weights1[0]], [weights0[1], weights1[1]]);"
   ]
  },
  {
   "cell_type": "markdown",
   "metadata": {},
   "source": [
    "L2 norm / Евклидова метрика:\n",
    "Евклидова метрика (евклидово расстояние) — метрика в евклидовом пространстве — расстояние между двумя точками евклидова пространства, вычисляемое по теореме Пифагора. \n",
    "\n",
    "a ** 2 + b ** 2 = c ** 2\n"
   ]
  },
  {
   "cell_type": "code",
   "execution_count": 29,
   "metadata": {},
   "outputs": [
    {
     "data": {
      "text/plain": [
       "2.23606797749979"
      ]
     },
     "execution_count": 29,
     "metadata": {},
     "output_type": "execute_result"
    }
   ],
   "source": [
    "# найдем растояние между весами (векторами)\n",
    "((weights1[0]-weights0[0])**2 + (weights1[1] - weights0[1])**2)**0.5"
   ]
  },
  {
   "cell_type": "code",
   "execution_count": 30,
   "metadata": {},
   "outputs": [
    {
     "data": {
      "image/png": "[encoded data removed]",
      "text/plain": [
       "<Figure size 576x360 with 1 Axes>"
      ]
     },
     "metadata": {
      "needs_background": "light"
     },
     "output_type": "display_data"
    }
   ],
   "source": [
    "# визуализируем\n",
    "ax = plot_vectors(weights0, weights1)\n",
    "ax.plot([weights0[0], weights1[0]], [weights0[1], weights0[1]], c='b')\n",
    "ax.plot([weights1[0], weights1[0]], [weights0[1], weights1[1]], c='b');"
   ]
  },
  {
   "cell_type": "markdown",
   "metadata": {},
   "source": [
    "L1 norm / Расстояние городских кварталов:\n",
    "Расстояние городских кварталов d1 между двумя векторами p,q в n-мерном вещественном векторном пространстве с заданной системой координат — сумма длин проекций отрезка между точками на оси координат. на плоскости расстояние городских кварталов между (p_{1},p_{2}) и  (q_{1},q_{2}) равно |p_{1}-q_{1}|+|p_{2}-q_{2}|.\n",
    "\n",
    "abs(p1-q1) + abs(p2-q2)\n"
   ]
  },
  {
   "cell_type": "code",
   "execution_count": 31,
   "metadata": {},
   "outputs": [
    {
     "data": {
      "text/plain": [
       "3.0"
      ]
     },
     "execution_count": 31,
     "metadata": {},
     "output_type": "execute_result"
    }
   ],
   "source": [
    "abs(weights1[0]-weights0[0]) + abs(weights1[1] - weights0[1])\n"
   ]
  },
  {
   "cell_type": "markdown",
   "metadata": {},
   "source": [
    "У нас получилось 3 варианта расстояний, можем брать любое, чаще всего это l1 или l2."
   ]
  },
  {
   "cell_type": "code",
   "execution_count": 32,
   "metadata": {},
   "outputs": [
    {
     "name": "stdout",
     "output_type": "stream",
     "text": [
      "Number of objects = 10        \n",
      "Learning rate = 0.01        \n",
      "Initial weights = [0.5 0.5] \n",
      "\n",
      "Iteration #0: W_new = [1.59 4.3 ], MSE = 3102.0\n",
      "Iteration #10: W_new = [ 6.56331187 10.69550943], MSE = 754.73\n",
      "Iteration #20: W_new = [ 9.94926955 10.17843838], MSE = 635.4\n",
      "Iteration #30: W_new = [13.02350016  9.62226131], MSE = 536.38\n",
      "Iteration #40: W_new = [15.82839082  9.11365473], MSE = 453.94\n",
      "Iteration #50: W_new = [18.38772168  8.64955977], MSE = 385.3\n",
      "Iteration #60: W_new = [20.72299319  8.22609429], MSE = 328.15\n",
      "Iteration #70: W_new = [22.8538209   7.83970154], MSE = 280.57\n",
      "Iteration #80: W_new = [24.79810306  7.48713594], MSE = 240.96\n",
      "Iteration #90: W_new = [26.572171    7.16543608], MSE = 207.97\n",
      "Iteration #100: W_new = [28.19092629  6.87189976], MSE = 180.52\n",
      "Iteration #110: W_new = [29.66796594  6.60406139], MSE = 157.65\n",
      "Iteration #120: W_new = [31.01569661  6.35967122], MSE = 138.62\n",
      "Iteration #130: W_new = [32.24543878  6.13667644], MSE = 122.77\n",
      "Iteration #140: W_new = [33.36752188  5.93320397], MSE = 109.58\n",
      "Iteration #150: W_new = [34.39137104  5.74754471], MSE = 98.59\n",
      "Iteration #160: W_new = [35.32558624  5.57813918], MSE = 89.45\n",
      "Iteration #170: W_new = [36.17801459  5.42356445], MSE = 81.83\n",
      "Iteration #180: W_new = [36.95581621  5.28252212], MSE = 75.49\n",
      "Iteration #190: W_new = [37.66552436  5.15382748], MSE = 70.22\n",
      "Iteration #200: W_new = [38.31310037  5.03639956], MSE = 65.82\n",
      "Iteration #210: W_new = [38.90398366  4.92925199], MSE = 62.16\n",
      "Iteration #220: W_new = [39.44313744  4.83148476], MSE = 59.12\n",
      "Iteration #230: W_new = [39.93509045  4.74227667], MSE = 56.58\n",
      "Iteration #240: W_new = [40.38397491  4.66087839], MSE = 54.47\n",
      "Iteration #250: W_new = [40.7935613   4.58660621], MSE = 52.71\n",
      "Iteration #260: W_new = [41.16729003  4.51883627], MSE = 51.25\n",
      "Iteration #270: W_new = [41.50830028  4.45699932], MSE = 50.03\n",
      "Iteration #280: W_new = [41.81945643  4.40057595], MSE = 49.01\n",
      "Iteration #290: W_new = [42.10337209  4.34909222], MSE = 48.17\n",
      "Iteration #300: W_new = [42.36243205  4.30211569], MSE = 47.47\n",
      "Iteration #310: W_new = [42.59881234  4.25925177], MSE = 46.88\n",
      "Iteration #320: W_new = [42.81449847  4.22014042], MSE = 46.39\n",
      "Iteration #330: W_new = [43.01130213  4.18445311], MSE = 45.99\n",
      "Iteration #340: W_new = [43.1908764   4.15189008], MSE = 45.65\n",
      "Iteration #350: W_new = [43.35472966  4.12217782], MSE = 45.37\n",
      "Iteration #360: W_new = [43.50423821  4.09506675], MSE = 45.13\n",
      "Iteration #370: W_new = [43.64065787  4.07032915], MSE = 44.94\n",
      "Iteration #380: W_new = [43.76513454  4.04775722], MSE = 44.78\n",
      "Iteration #390: W_new = [43.87871376  4.02716138], MSE = 44.64\n",
      "Iteration #400: W_new = [43.98234957  4.00836863], MSE = 44.53\n",
      "Iteration #410: W_new = [44.07691248  3.9912211 ], MSE = 44.43\n",
      "Iteration #420: W_new = [44.16319677  3.97557477], MSE = 44.36\n",
      "Iteration #430: W_new = [44.24192722  3.96129822], MSE = 44.29\n",
      "Iteration #440: W_new = [44.31376512  3.94827153], MSE = 44.24\n",
      "Iteration #450: W_new = [44.37931391  3.93638526], MSE = 44.19\n",
      "Iteration #460: W_new = [44.43912415  3.9255396 ], MSE = 44.16\n",
      "Iteration #470: W_new = [44.49369825  3.91564343], MSE = 44.12\n",
      "Iteration #480: W_new = [44.54349459  3.90661363], MSE = 44.1\n",
      "Iteration #490: W_new = [44.58893147  3.89837435], MSE = 44.08\n",
      "Iteration #500: W_new = [44.63039052  3.89085639], MSE = 44.06\n",
      "Iteration #510: W_new = [44.66822    3.8839966], MSE = 44.04\n",
      "Iteration #520: W_new = [44.70273766  3.87773735], MSE = 44.03\n",
      "Iteration #530: W_new = [44.73423343  3.87202608], MSE = 44.02\n",
      "Iteration #540: W_new = [44.76297187  3.86681481], MSE = 44.01\n",
      "Iteration #550: W_new = [44.78919438  3.86205976], MSE = 44.0\n",
      "Iteration #560: W_new = [44.81312121  3.857721  ], MSE = 44.0\n",
      "Iteration #570: W_new = [44.83495333  3.85376208], MSE = 43.99\n",
      "Iteration #580: W_new = [44.85487415  3.85014975], MSE = 43.99\n",
      "Iteration #590: W_new = [44.87305097  3.84685366], MSE = 43.99\n",
      "Iteration #600: W_new = [44.88963648  3.84384613], MSE = 43.98\n",
      "Iteration #610: W_new = [44.90477    3.8411019], MSE = 43.98\n",
      "Iteration #620: W_new = [44.91857864  3.83859792], MSE = 43.98\n",
      "Iteration #630: W_new = [44.93117839  3.83631315], MSE = 43.98\n",
      "Iteration #640: W_new = [44.94267508  3.8342284 ], MSE = 43.98\n",
      "Iteration #650: W_new = [44.95316528  3.83232617], MSE = 43.97\n",
      "Iteration #660: W_new = [44.9627371   3.83059046], MSE = 43.97\n",
      "Iteration #670: W_new = [44.97147095  3.82900672], MSE = 43.97\n",
      "Iteration #680: W_new = [44.97944018  3.82756162], MSE = 43.97\n",
      "Iteration #690: W_new = [44.98671174  3.82624303], MSE = 43.97\n",
      "Iteration #700: W_new = [44.9933467   3.82503988], MSE = 43.97\n",
      "Iteration #710: W_new = [44.9994008   3.82394207], MSE = 43.97\n",
      "Iteration #720: W_new = [45.00492489  3.82294036], MSE = 43.97\n",
      "Iteration #730: W_new = [45.00996536  3.82202635], MSE = 43.97\n",
      "Iteration #740: W_new = [45.01456456  3.82119235], MSE = 43.97\n",
      "Iteration #750: W_new = [45.01876112  3.82043137], MSE = 43.97\n",
      "Iteration #760: W_new = [45.02259029  3.81973701], MSE = 43.97\n",
      "Iteration #770: W_new = [45.02608422  3.81910344], MSE = 43.97\n",
      "Iteration #780: W_new = [45.02927228  3.81852533], MSE = 43.97\n",
      "Iteration #790: W_new = [45.03218124  3.81799784], MSE = 43.97\n",
      "Iteration #800: W_new = [45.03483552  3.81751653], MSE = 43.97\n",
      "Iteration #810: W_new = [45.03725744  3.81707735], MSE = 43.97\n",
      "Iteration #820: W_new = [45.03946733  3.81667662], MSE = 43.97\n",
      "Iteration #830: W_new = [45.04148375  3.81631097], MSE = 43.97\n",
      "Iteration #840: W_new = [45.04332364  3.81597734], MSE = 43.97\n",
      "Iteration #850: W_new = [45.04500245  3.81567291], MSE = 43.97\n",
      "Iteration #860: W_new = [45.04653429  3.81539513], MSE = 43.97\n",
      "Iteration #870: W_new = [45.04793203  3.81514168], MSE = 43.97\n",
      "Iteration #880: W_new = [45.0492074   3.81491041], MSE = 43.97\n",
      "Iteration #890: W_new = [45.05037111  3.81469939], MSE = 43.97\n",
      "Iteration #900: W_new = [45.05143295  3.81450684], MSE = 43.97\n",
      "Iteration #910: W_new = [45.05240182  3.81433115], MSE = 43.97\n",
      "Iteration #920: W_new = [45.05328588  3.81417084], MSE = 43.97\n",
      "Iteration #930: W_new = [45.05409254  3.81402456], MSE = 43.97\n",
      "Iteration #940: W_new = [45.05482858  3.81389109], MSE = 43.97\n",
      "Iteration #950: W_new = [45.05550018  3.81376931], MSE = 43.97\n",
      "Iteration #960: W_new = [45.05611299  3.81365819], MSE = 43.97\n",
      "Iteration #970: W_new = [45.05667215  3.81355679], MSE = 43.97\n",
      "Iteration #980: W_new = [45.05718235  3.81346427], MSE = 43.97\n",
      "Iteration #990: W_new = [45.05764789  3.81337986], MSE = 43.97\n",
      "Iteration #1000: W_new = [45.05807267  3.81330283], MSE = 43.97\n",
      "Iteration #1010: W_new = [45.05846027  3.81323254], MSE = 43.97\n",
      "Iteration #1020: W_new = [45.05881393  3.81316841], MSE = 43.97\n",
      "Iteration #1030: W_new = [45.05913663  3.81310989], MSE = 43.97\n",
      "Iteration #1040: W_new = [45.05943108  3.8130565 ], MSE = 43.97\n",
      "Iteration #1050: W_new = [45.05969975  3.81300778], MSE = 43.97\n",
      "Iteration #1060: W_new = [45.0599449   3.81296333], MSE = 43.97\n",
      "Iteration #1070: W_new = [45.06016859  3.81292276], MSE = 43.97\n",
      "Iteration #1080: W_new = [45.0603727   3.81288575], MSE = 43.97\n",
      "Iteration #1090: W_new = [45.06055893  3.81285198], MSE = 43.97\n",
      "Iteration #1100: W_new = [45.06072887  3.81282117], MSE = 43.97\n",
      "Iteration #1110: W_new = [45.06088392  3.81279305], MSE = 43.97\n",
      "Iteration #1120: W_new = [45.0610254  3.8127674], MSE = 43.97\n",
      "Iteration #1130: W_new = [45.0611545   3.81274399], MSE = 43.97\n",
      "Iteration #1140: W_new = [45.06127229  3.81272263], MSE = 43.97\n",
      "Iteration #1150: W_new = [45.06137977  3.81270314], MSE = 43.97\n"
     ]
    }
   ],
   "source": [
    "n = X.shape[0]\n",
    "\n",
    "eta = 1e-2 \n",
    "epsilon = 1e-5\n",
    "iter_num = 0\n",
    "\n",
    "# инициализируем веса маленькими величинами\n",
    "W = np.array([0.5, 0.5])\n",
    "\n",
    "print(f'Number of objects = {n} \\\n",
    "       \\nLearning rate = {eta} \\\n",
    "       \\nInitial weights = {W} \\n')\n",
    "\n",
    "# задаем изначально бесконечно большое число\n",
    "weight_dist = np.inf\n",
    "\n",
    "while weight_dist > epsilon:\n",
    "    y_pred = np.dot(X, W)\n",
    "    err = calc_mse(y, y_pred)\n",
    "# умножаем скорость обучения на градиент (происходит оптимизация веса)\n",
    "    W_new = W - eta * (1/n * 2 * np.dot(X.T, y_pred - y))\n",
    "    \n",
    "# находим растояние между весами (векторами)    \n",
    "    weight_dist = np.linalg.norm(W_new - W, ord=2)\n",
    "    \n",
    "    W = W_new.copy()\n",
    "    \n",
    "    if iter_num % 10 == 0:\n",
    "        print(f'Iteration #{iter_num}: W_new = {W}, MSE = {round(err,2)}')\n",
    "    iter_num += 1"
   ]
  },
  {
   "cell_type": "code",
   "execution_count": null,
   "metadata": {},
   "outputs": [],
   "source": []
  }
 ],
 "metadata": {
  "colab": {
   "name": "Lesson_1.ipynb",
   "provenance": []
  },
  "kernelspec": {
   "display_name": "Python 3",
   "language": "python",
   "name": "python3"
  },
  "language_info": {
   "codemirror_mode": {
    "name": "ipython",
    "version": 3
   },
   "file_extension": ".py",
   "mimetype": "text/x-python",
   "name": "python",
   "nbconvert_exporter": "python",
   "pygments_lexer": "ipython3",
   "version": "3.8.3"
  }
 },
 "nbformat": 4,
 "nbformat_minor": 1
}
