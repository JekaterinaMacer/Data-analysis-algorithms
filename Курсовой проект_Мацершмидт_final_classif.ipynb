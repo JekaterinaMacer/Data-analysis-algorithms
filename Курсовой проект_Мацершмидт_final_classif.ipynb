{
 "cells": [
  {
   "cell_type": "markdown",
   "metadata": {},
   "source": [
    "---"
   ]
  },
  {
   "cell_type": "markdown",
   "metadata": {},
   "source": [
    "# Classification. Choose tutors\n",
    "#### Geekbrains Algorithms for analyze data. Choose proper tutors for math exam"
   ]
  },
  {
   "cell_type": "markdown",
   "metadata": {},
   "source": [
    "### The evaluation metric is ROC AUC"
   ]
  },
  {
   "cell_type": "markdown",
   "metadata": {},
   "source": [
    "In this competition your task will be to predict the probability for a tutor to be a proper one for preparing for the math exam. You will be given two datasets: train.csv (contains all features and the target) and test.csv (only features)."
   ]
  },
  {
   "cell_type": "markdown",
   "metadata": {},
   "source": [
    "##### Data Description"
   ]
  },
  {
   "cell_type": "markdown",
   "metadata": {},
   "source": [
    "Id - айди\n",
    "age - возраст преподавателя\n",
    "years_of_experience - стаж преподавателя\n",
    "lesson_price - стоимость урока\n",
    "qualification - квалификация преподавателя\n",
    "physics - преподает ли физику\n",
    "chemistry - преподает ли химию\n",
    "biology - преподает ли биологию\n",
    "english - преподает ли английский\n",
    "geography - преподает ли географию\n",
    "history - преподает ли историю\n",
    "mean_exam_points - средний балл за экзамен учеников\n",
    "choose - целевое значени, выбирать или нет преподавателя"
   ]
  },
  {
   "cell_type": "markdown",
   "metadata": {},
   "source": [
    "#### Подключение библиотек и скриптов"
   ]
  },
  {
   "cell_type": "code",
   "execution_count": 229,
   "metadata": {},
   "outputs": [],
   "source": [
    "import numpy as np\n",
    "import pandas as pd\n",
    "import pickle\n",
    "from sklearn.model_selection import train_test_split\n",
    "\n",
    "import matplotlib\n",
    "import matplotlib.pyplot as plt\n",
    "import seaborn as sns\n",
    "%matplotlib inline\n",
    "matplotlib.rcParams.update({'font.size': 14})\n",
    "\n",
    "import warnings\n",
    "warnings.filterwarnings('ignore')"
   ]
  },
  {
   "cell_type": "code",
   "execution_count": 230,
   "metadata": {},
   "outputs": [],
   "source": [
    "#Пути к директориям и файлам\n",
    "\n",
    "# input\n",
    "\n",
    "TEST_PATH = '/Users/ekaterina/Desktop/LEARN/IT/Алгоритмы анализа данных/Курсовая/gb-choose-tutors/test.csv'\n",
    "TRAIN_DATASET_PATH = '/Users/ekaterina/Desktop/LEARN/IT/Алгоритмы анализа данных/Курсовая/gb-choose-tutors/train.csv'\n",
    "\n",
    "# output\n",
    "\n",
    "PRED_PATH = '/Users/ekaterina/Desktop/LEARN/IT/Алгоритмы анализа данных/Курсовая/gb-choose-tutors/Macerszmidt_predictionsLog.csv'\n"
   ]
  },
  {
   "cell_type": "markdown",
   "metadata": {},
   "source": [
    "#### Загрузка данных"
   ]
  },
  {
   "cell_type": "code",
   "execution_count": 231,
   "metadata": {},
   "outputs": [
    {
     "data": {
      "text/html": [
       "<div>\n",
       "<style scoped>\n",
       "    .dataframe tbody tr th:only-of-type {\n",
       "        vertical-align: middle;\n",
       "    }\n",
       "\n",
       "    .dataframe tbody tr th {\n",
       "        vertical-align: top;\n",
       "    }\n",
       "\n",
       "    .dataframe thead th {\n",
       "        text-align: right;\n",
       "    }\n",
       "</style>\n",
       "<table border=\"1\" class=\"dataframe\">\n",
       "  <thead>\n",
       "    <tr style=\"text-align: right;\">\n",
       "      <th></th>\n",
       "      <th>Id</th>\n",
       "      <th>age</th>\n",
       "      <th>years_of_experience</th>\n",
       "      <th>lesson_price</th>\n",
       "      <th>qualification</th>\n",
       "      <th>physics</th>\n",
       "      <th>chemistry</th>\n",
       "      <th>biology</th>\n",
       "      <th>english</th>\n",
       "      <th>geography</th>\n",
       "      <th>history</th>\n",
       "      <th>mean_exam_points</th>\n",
       "      <th>choose</th>\n",
       "    </tr>\n",
       "  </thead>\n",
       "  <tbody>\n",
       "    <tr>\n",
       "      <th>0</th>\n",
       "      <td>0</td>\n",
       "      <td>35.0</td>\n",
       "      <td>0.0</td>\n",
       "      <td>2150.0</td>\n",
       "      <td>2.0</td>\n",
       "      <td>0.0</td>\n",
       "      <td>0.0</td>\n",
       "      <td>0.0</td>\n",
       "      <td>0.0</td>\n",
       "      <td>0.0</td>\n",
       "      <td>0.0</td>\n",
       "      <td>74.0</td>\n",
       "      <td>0</td>\n",
       "    </tr>\n",
       "    <tr>\n",
       "      <th>1</th>\n",
       "      <td>1</td>\n",
       "      <td>52.0</td>\n",
       "      <td>2.0</td>\n",
       "      <td>1250.0</td>\n",
       "      <td>2.0</td>\n",
       "      <td>1.0</td>\n",
       "      <td>0.0</td>\n",
       "      <td>1.0</td>\n",
       "      <td>0.0</td>\n",
       "      <td>0.0</td>\n",
       "      <td>1.0</td>\n",
       "      <td>57.0</td>\n",
       "      <td>1</td>\n",
       "    </tr>\n",
       "    <tr>\n",
       "      <th>2</th>\n",
       "      <td>2</td>\n",
       "      <td>29.0</td>\n",
       "      <td>3.0</td>\n",
       "      <td>1750.0</td>\n",
       "      <td>1.0</td>\n",
       "      <td>1.0</td>\n",
       "      <td>0.0</td>\n",
       "      <td>0.0</td>\n",
       "      <td>0.0</td>\n",
       "      <td>0.0</td>\n",
       "      <td>0.0</td>\n",
       "      <td>66.0</td>\n",
       "      <td>0</td>\n",
       "    </tr>\n",
       "    <tr>\n",
       "      <th>3</th>\n",
       "      <td>3</td>\n",
       "      <td>33.0</td>\n",
       "      <td>3.0</td>\n",
       "      <td>1050.0</td>\n",
       "      <td>1.0</td>\n",
       "      <td>0.0</td>\n",
       "      <td>0.0</td>\n",
       "      <td>0.0</td>\n",
       "      <td>0.0</td>\n",
       "      <td>0.0</td>\n",
       "      <td>0.0</td>\n",
       "      <td>66.0</td>\n",
       "      <td>1</td>\n",
       "    </tr>\n",
       "    <tr>\n",
       "      <th>4</th>\n",
       "      <td>4</td>\n",
       "      <td>46.0</td>\n",
       "      <td>3.0</td>\n",
       "      <td>2250.0</td>\n",
       "      <td>2.0</td>\n",
       "      <td>1.0</td>\n",
       "      <td>0.0</td>\n",
       "      <td>0.0</td>\n",
       "      <td>0.0</td>\n",
       "      <td>0.0</td>\n",
       "      <td>0.0</td>\n",
       "      <td>73.0</td>\n",
       "      <td>0</td>\n",
       "    </tr>\n",
       "  </tbody>\n",
       "</table>\n",
       "</div>"
      ],
      "text/plain": [
       "   Id   age  years_of_experience  lesson_price  qualification  physics  \\\n",
       "0   0  35.0                  0.0        2150.0            2.0      0.0   \n",
       "1   1  52.0                  2.0        1250.0            2.0      1.0   \n",
       "2   2  29.0                  3.0        1750.0            1.0      1.0   \n",
       "3   3  33.0                  3.0        1050.0            1.0      0.0   \n",
       "4   4  46.0                  3.0        2250.0            2.0      1.0   \n",
       "\n",
       "   chemistry  biology  english  geography  history  mean_exam_points  choose  \n",
       "0        0.0      0.0      0.0        0.0      0.0              74.0       0  \n",
       "1        0.0      1.0      0.0        0.0      1.0              57.0       1  \n",
       "2        0.0      0.0      0.0        0.0      0.0              66.0       0  \n",
       "3        0.0      0.0      0.0        0.0      0.0              66.0       1  \n",
       "4        0.0      0.0      0.0        0.0      0.0              73.0       0  "
      ]
     },
     "execution_count": 231,
     "metadata": {},
     "output_type": "execute_result"
    }
   ],
   "source": [
    "df = pd.read_csv(TRAIN_DATASET_PATH)\n",
    "df.head()"
   ]
  },
  {
   "cell_type": "code",
   "execution_count": 232,
   "metadata": {},
   "outputs": [
    {
     "data": {
      "text/plain": [
       "['Id',\n",
       " 'age',\n",
       " 'years_of_experience',\n",
       " 'lesson_price',\n",
       " 'qualification',\n",
       " 'physics',\n",
       " 'chemistry',\n",
       " 'biology',\n",
       " 'english',\n",
       " 'geography',\n",
       " 'history',\n",
       " 'mean_exam_points',\n",
       " 'choose']"
      ]
     },
     "execution_count": 232,
     "metadata": {},
     "output_type": "execute_result"
    }
   ],
   "source": [
    "df.columns.tolist()"
   ]
  },
  {
   "cell_type": "code",
   "execution_count": 233,
   "metadata": {},
   "outputs": [],
   "source": [
    "feature_names = ['Id',\n",
    " 'age',\n",
    " 'years_of_experience',\n",
    " 'lesson_price',\n",
    " 'qualification', \n",
    " 'mean_exam_points'\n",
    " ]\n",
    "\n",
    "target_name = 'choose'"
   ]
  },
  {
   "cell_type": "code",
   "execution_count": 234,
   "metadata": {},
   "outputs": [
    {
     "data": {
      "text/html": [
       "<div>\n",
       "<style scoped>\n",
       "    .dataframe tbody tr th:only-of-type {\n",
       "        vertical-align: middle;\n",
       "    }\n",
       "\n",
       "    .dataframe tbody tr th {\n",
       "        vertical-align: top;\n",
       "    }\n",
       "\n",
       "    .dataframe thead th {\n",
       "        text-align: right;\n",
       "    }\n",
       "</style>\n",
       "<table border=\"1\" class=\"dataframe\">\n",
       "  <thead>\n",
       "    <tr style=\"text-align: right;\">\n",
       "      <th></th>\n",
       "      <th>Id</th>\n",
       "      <th>age</th>\n",
       "      <th>years_of_experience</th>\n",
       "      <th>lesson_price</th>\n",
       "      <th>qualification</th>\n",
       "      <th>mean_exam_points</th>\n",
       "      <th>choose</th>\n",
       "    </tr>\n",
       "  </thead>\n",
       "  <tbody>\n",
       "    <tr>\n",
       "      <th>0</th>\n",
       "      <td>0</td>\n",
       "      <td>35.0</td>\n",
       "      <td>0.0</td>\n",
       "      <td>2150.0</td>\n",
       "      <td>2.0</td>\n",
       "      <td>74.0</td>\n",
       "      <td>0</td>\n",
       "    </tr>\n",
       "    <tr>\n",
       "      <th>1</th>\n",
       "      <td>1</td>\n",
       "      <td>52.0</td>\n",
       "      <td>2.0</td>\n",
       "      <td>1250.0</td>\n",
       "      <td>2.0</td>\n",
       "      <td>57.0</td>\n",
       "      <td>1</td>\n",
       "    </tr>\n",
       "    <tr>\n",
       "      <th>2</th>\n",
       "      <td>2</td>\n",
       "      <td>29.0</td>\n",
       "      <td>3.0</td>\n",
       "      <td>1750.0</td>\n",
       "      <td>1.0</td>\n",
       "      <td>66.0</td>\n",
       "      <td>0</td>\n",
       "    </tr>\n",
       "    <tr>\n",
       "      <th>3</th>\n",
       "      <td>3</td>\n",
       "      <td>33.0</td>\n",
       "      <td>3.0</td>\n",
       "      <td>1050.0</td>\n",
       "      <td>1.0</td>\n",
       "      <td>66.0</td>\n",
       "      <td>1</td>\n",
       "    </tr>\n",
       "    <tr>\n",
       "      <th>4</th>\n",
       "      <td>4</td>\n",
       "      <td>46.0</td>\n",
       "      <td>3.0</td>\n",
       "      <td>2250.0</td>\n",
       "      <td>2.0</td>\n",
       "      <td>73.0</td>\n",
       "      <td>0</td>\n",
       "    </tr>\n",
       "  </tbody>\n",
       "</table>\n",
       "</div>"
      ],
      "text/plain": [
       "   Id   age  years_of_experience  lesson_price  qualification  \\\n",
       "0   0  35.0                  0.0        2150.0            2.0   \n",
       "1   1  52.0                  2.0        1250.0            2.0   \n",
       "2   2  29.0                  3.0        1750.0            1.0   \n",
       "3   3  33.0                  3.0        1050.0            1.0   \n",
       "4   4  46.0                  3.0        2250.0            2.0   \n",
       "\n",
       "   mean_exam_points  choose  \n",
       "0              74.0       0  \n",
       "1              57.0       1  \n",
       "2              66.0       0  \n",
       "3              66.0       1  \n",
       "4              73.0       0  "
      ]
     },
     "execution_count": 234,
     "metadata": {},
     "output_type": "execute_result"
    }
   ],
   "source": [
    "df = df[feature_names + [target_name]]\n",
    "df.head()"
   ]
  },
  {
   "cell_type": "markdown",
   "metadata": {},
   "source": [
    "#### Стандартизация признаков"
   ]
  },
  {
   "cell_type": "code",
   "execution_count": 235,
   "metadata": {},
   "outputs": [],
   "source": [
    "def standard_scale(X_train, X_test):\n",
    "    X_train_stand = X_train.copy()\n",
    "    X_test_stand = X_test.copy()\n",
    "    for i in range(X_train_stand.shape[1]):\n",
    "        mean = X_train_stand.iloc[:, i].mean()\n",
    "        std = X_train_stand.iloc[:, i].std()\n",
    "        X_train_stand.iloc[:, i] = (X_train_stand.iloc[:, i] - mean) / std\n",
    "        X_test_stand.iloc[:, i] = (X_test_stand.iloc[:, i] - mean) / std\n",
    "    return X_train_stand, X_test_stand"
   ]
  },
  {
   "cell_type": "code",
   "execution_count": 236,
   "metadata": {},
   "outputs": [
    {
     "data": {
      "text/html": [
       "<div>\n",
       "<style scoped>\n",
       "    .dataframe tbody tr th:only-of-type {\n",
       "        vertical-align: middle;\n",
       "    }\n",
       "\n",
       "    .dataframe tbody tr th {\n",
       "        vertical-align: top;\n",
       "    }\n",
       "\n",
       "    .dataframe thead th {\n",
       "        text-align: right;\n",
       "    }\n",
       "</style>\n",
       "<table border=\"1\" class=\"dataframe\">\n",
       "  <thead>\n",
       "    <tr style=\"text-align: right;\">\n",
       "      <th></th>\n",
       "      <th>Id</th>\n",
       "      <th>age</th>\n",
       "      <th>years_of_experience</th>\n",
       "      <th>lesson_price</th>\n",
       "      <th>qualification</th>\n",
       "      <th>physics</th>\n",
       "      <th>chemistry</th>\n",
       "      <th>biology</th>\n",
       "      <th>english</th>\n",
       "      <th>geography</th>\n",
       "      <th>history</th>\n",
       "      <th>mean_exam_points</th>\n",
       "    </tr>\n",
       "  </thead>\n",
       "  <tbody>\n",
       "    <tr>\n",
       "      <th>0</th>\n",
       "      <td>10000</td>\n",
       "      <td>32.0</td>\n",
       "      <td>2.0</td>\n",
       "      <td>2700.0</td>\n",
       "      <td>3.0</td>\n",
       "      <td>0.0</td>\n",
       "      <td>0.0</td>\n",
       "      <td>0.0</td>\n",
       "      <td>0.0</td>\n",
       "      <td>0.0</td>\n",
       "      <td>0.0</td>\n",
       "      <td>90.0</td>\n",
       "    </tr>\n",
       "    <tr>\n",
       "      <th>1</th>\n",
       "      <td>10001</td>\n",
       "      <td>35.0</td>\n",
       "      <td>6.0</td>\n",
       "      <td>1800.0</td>\n",
       "      <td>2.0</td>\n",
       "      <td>1.0</td>\n",
       "      <td>1.0</td>\n",
       "      <td>0.0</td>\n",
       "      <td>0.0</td>\n",
       "      <td>0.0</td>\n",
       "      <td>0.0</td>\n",
       "      <td>71.0</td>\n",
       "    </tr>\n",
       "    <tr>\n",
       "      <th>2</th>\n",
       "      <td>10002</td>\n",
       "      <td>44.0</td>\n",
       "      <td>2.0</td>\n",
       "      <td>1200.0</td>\n",
       "      <td>1.0</td>\n",
       "      <td>0.0</td>\n",
       "      <td>0.0</td>\n",
       "      <td>0.0</td>\n",
       "      <td>0.0</td>\n",
       "      <td>0.0</td>\n",
       "      <td>0.0</td>\n",
       "      <td>45.0</td>\n",
       "    </tr>\n",
       "    <tr>\n",
       "      <th>3</th>\n",
       "      <td>10003</td>\n",
       "      <td>44.0</td>\n",
       "      <td>4.0</td>\n",
       "      <td>2950.0</td>\n",
       "      <td>3.0</td>\n",
       "      <td>1.0</td>\n",
       "      <td>0.0</td>\n",
       "      <td>0.0</td>\n",
       "      <td>0.0</td>\n",
       "      <td>0.0</td>\n",
       "      <td>0.0</td>\n",
       "      <td>92.0</td>\n",
       "    </tr>\n",
       "    <tr>\n",
       "      <th>4</th>\n",
       "      <td>10004</td>\n",
       "      <td>38.0</td>\n",
       "      <td>3.0</td>\n",
       "      <td>1400.0</td>\n",
       "      <td>2.0</td>\n",
       "      <td>1.0</td>\n",
       "      <td>0.0</td>\n",
       "      <td>0.0</td>\n",
       "      <td>0.0</td>\n",
       "      <td>0.0</td>\n",
       "      <td>0.0</td>\n",
       "      <td>58.0</td>\n",
       "    </tr>\n",
       "  </tbody>\n",
       "</table>\n",
       "</div>"
      ],
      "text/plain": [
       "      Id   age  years_of_experience  lesson_price  qualification  physics  \\\n",
       "0  10000  32.0                  2.0        2700.0            3.0      0.0   \n",
       "1  10001  35.0                  6.0        1800.0            2.0      1.0   \n",
       "2  10002  44.0                  2.0        1200.0            1.0      0.0   \n",
       "3  10003  44.0                  4.0        2950.0            3.0      1.0   \n",
       "4  10004  38.0                  3.0        1400.0            2.0      1.0   \n",
       "\n",
       "   chemistry  biology  english  geography  history  mean_exam_points  \n",
       "0        0.0      0.0      0.0        0.0      0.0              90.0  \n",
       "1        1.0      0.0      0.0        0.0      0.0              71.0  \n",
       "2        0.0      0.0      0.0        0.0      0.0              45.0  \n",
       "3        0.0      0.0      0.0        0.0      0.0              92.0  \n",
       "4        0.0      0.0      0.0        0.0      0.0              58.0  "
      ]
     },
     "execution_count": 236,
     "metadata": {},
     "output_type": "execute_result"
    }
   ],
   "source": [
    "df_test = pd.read_csv(TEST_PATH)\n",
    "df_test.head()"
   ]
  },
  {
   "cell_type": "code",
   "execution_count": 237,
   "metadata": {},
   "outputs": [],
   "source": [
    "columns_scaled = ['age', 'years_of_experience', 'lesson_price', 'qualification', 'mean_exam_points'\n",
    "                ]\n",
    "df[columns_scaled], df_test[columns_scaled] = standard_scale(df[columns_scaled], df_test[columns_scaled])"
   ]
  },
  {
   "cell_type": "markdown",
   "metadata": {},
   "source": [
    "#### Разбивка датасета на обучающий и тестовый"
   ]
  },
  {
   "cell_type": "code",
   "execution_count": 238,
   "metadata": {},
   "outputs": [],
   "source": [
    "X = df.drop(columns=['Id', 'choose'])\n",
    "y = df['choose']\n",
    "\n",
    "X_train, X_test, y_train, y_test = train_test_split(X, y, test_size=0.3, stratify=y, random_state=42)"
   ]
  },
  {
   "cell_type": "code",
   "execution_count": 239,
   "metadata": {},
   "outputs": [
    {
     "data": {
      "text/plain": [
       "((7000, 5), (3000, 5), (7000,), (3000,))"
      ]
     },
     "execution_count": 239,
     "metadata": {},
     "output_type": "execute_result"
    }
   ],
   "source": [
    "X_train.shape, X_test.shape, y_train.shape, y_test.shape"
   ]
  },
  {
   "cell_type": "markdown",
   "metadata": {},
   "source": [
    "#### Логистическая регрессия "
   ]
  },
  {
   "cell_type": "code",
   "execution_count": 240,
   "metadata": {},
   "outputs": [],
   "source": [
    "def calculation_LogLoss(y, y_pred):\n",
    "    pred_log = np.where(y_pred == 0, 1e-10, 0.9999999999) \n",
    "    error = - np.mean(y * np.log(y_pred) + (1.0 - y) * np.log(1.0 - y_pred))\n",
    "    return error\n",
    "\n",
    "def evaluation_model(X, y, iterations, eta=1e-4, log=True):\n",
    "    np.random.seed(42)\n",
    "    W = np.random.randn(X.shape[1])\n",
    "    n = X.shape[0]\n",
    "    \n",
    "    for i in range(iterations):\n",
    "        z = np.dot(X, W)\n",
    "        y_pred = 1 / (1 + np.exp(-z))\n",
    "        error = calculation_LogLoss(y, y_pred)\n",
    "        \n",
    "        dQ = 1/n * X.T @ (y_pred - y)\n",
    "        W -= eta * dQ\n",
    "        if i % (iterations / 10) == 0 and log==True:\n",
    "            print(f'Iteration number: {i}, Weights: {W}, Logloss: {error}')\n",
    "    return W"
   ]
  },
  {
   "cell_type": "code",
   "execution_count": 241,
   "metadata": {},
   "outputs": [
    {
     "name": "stdout",
     "output_type": "stream",
     "text": [
      "Iteration number: 0, Weights: age                    0.429351\n",
      "years_of_experience   -0.181616\n",
      "lesson_price           0.337785\n",
      "qualification          1.232497\n",
      "mean_exam_points      -0.425954\n",
      "dtype: float64, Logloss: 1.072309914734715\n",
      "Iteration number: 50, Weights: age                   -0.007583\n",
      "years_of_experience    0.049632\n",
      "lesson_price          -0.749759\n",
      "qualification          0.339133\n",
      "mean_exam_points       0.422378\n",
      "dtype: float64, Logloss: 0.6674175256149387\n",
      "Iteration number: 100, Weights: age                   -0.008611\n",
      "years_of_experience    0.051396\n",
      "lesson_price          -0.774502\n",
      "qualification          0.313450\n",
      "mean_exam_points       0.473747\n",
      "dtype: float64, Logloss: 0.6672721779109392\n",
      "Iteration number: 150, Weights: age                   -0.008660\n",
      "years_of_experience    0.051460\n",
      "lesson_price          -0.775416\n",
      "qualification          0.312038\n",
      "mean_exam_points       0.476129\n",
      "dtype: float64, Logloss: 0.6672718655019115\n",
      "Iteration number: 200, Weights: age                   -0.008663\n",
      "years_of_experience    0.051461\n",
      "lesson_price          -0.775435\n",
      "qualification          0.311948\n",
      "mean_exam_points       0.476241\n",
      "dtype: float64, Logloss: 0.6672718647487588\n",
      "Iteration number: 250, Weights: age                   -0.008663\n",
      "years_of_experience    0.051461\n",
      "lesson_price          -0.775434\n",
      "qualification          0.311941\n",
      "mean_exam_points       0.476246\n",
      "dtype: float64, Logloss: 0.6672718647461817\n",
      "Iteration number: 300, Weights: age                   -0.008663\n",
      "years_of_experience    0.051461\n",
      "lesson_price          -0.775433\n",
      "qualification          0.311940\n",
      "mean_exam_points       0.476247\n",
      "dtype: float64, Logloss: 0.6672718647461648\n",
      "Iteration number: 350, Weights: age                   -0.008663\n",
      "years_of_experience    0.051461\n",
      "lesson_price          -0.775433\n",
      "qualification          0.311940\n",
      "mean_exam_points       0.476247\n",
      "dtype: float64, Logloss: 0.6672718647461626\n",
      "Iteration number: 400, Weights: age                   -0.008663\n",
      "years_of_experience    0.051461\n",
      "lesson_price          -0.775433\n",
      "qualification          0.311940\n",
      "mean_exam_points       0.476247\n",
      "dtype: float64, Logloss: 0.6672718647461662\n",
      "Iteration number: 450, Weights: age                   -0.008663\n",
      "years_of_experience    0.051461\n",
      "lesson_price          -0.775433\n",
      "qualification          0.311940\n",
      "mean_exam_points       0.476247\n",
      "dtype: float64, Logloss: 0.6672718647461635\n"
     ]
    }
   ],
   "source": [
    "coefficients = evaluation_model(X_train, y_train, 500, eta=1)"
   ]
  },
  {
   "cell_type": "code",
   "execution_count": 242,
   "metadata": {},
   "outputs": [
    {
     "data": {
      "text/html": [
       "<div>\n",
       "<style scoped>\n",
       "    .dataframe tbody tr th:only-of-type {\n",
       "        vertical-align: middle;\n",
       "    }\n",
       "\n",
       "    .dataframe tbody tr th {\n",
       "        vertical-align: top;\n",
       "    }\n",
       "\n",
       "    .dataframe thead th {\n",
       "        text-align: right;\n",
       "    }\n",
       "</style>\n",
       "<table border=\"1\" class=\"dataframe\">\n",
       "  <thead>\n",
       "    <tr style=\"text-align: right;\">\n",
       "      <th></th>\n",
       "      <th>age</th>\n",
       "      <th>years_of_experience</th>\n",
       "      <th>lesson_price</th>\n",
       "      <th>qualification</th>\n",
       "      <th>mean_exam_points</th>\n",
       "    </tr>\n",
       "  </thead>\n",
       "  <tbody>\n",
       "    <tr>\n",
       "      <th>2005</th>\n",
       "      <td>0.149322</td>\n",
       "      <td>-1.117674</td>\n",
       "      <td>0.854466</td>\n",
       "      <td>0.345123</td>\n",
       "      <td>0.335770</td>\n",
       "    </tr>\n",
       "    <tr>\n",
       "      <th>8298</th>\n",
       "      <td>-0.971436</td>\n",
       "      <td>2.844104</td>\n",
       "      <td>-1.627449</td>\n",
       "      <td>0.345123</td>\n",
       "      <td>-0.473350</td>\n",
       "    </tr>\n",
       "    <tr>\n",
       "      <th>5790</th>\n",
       "      <td>-0.224264</td>\n",
       "      <td>0.014262</td>\n",
       "      <td>-0.481950</td>\n",
       "      <td>-0.906684</td>\n",
       "      <td>-0.399793</td>\n",
       "    </tr>\n",
       "    <tr>\n",
       "      <th>1969</th>\n",
       "      <td>-0.099735</td>\n",
       "      <td>1.146199</td>\n",
       "      <td>-0.577408</td>\n",
       "      <td>-0.906684</td>\n",
       "      <td>-0.546906</td>\n",
       "    </tr>\n",
       "    <tr>\n",
       "      <th>4543</th>\n",
       "      <td>-0.846908</td>\n",
       "      <td>-1.117674</td>\n",
       "      <td>-0.959241</td>\n",
       "      <td>-0.906684</td>\n",
       "      <td>-0.988244</td>\n",
       "    </tr>\n",
       "    <tr>\n",
       "      <th>...</th>\n",
       "      <td>...</td>\n",
       "      <td>...</td>\n",
       "      <td>...</td>\n",
       "      <td>...</td>\n",
       "      <td>...</td>\n",
       "    </tr>\n",
       "    <tr>\n",
       "      <th>9199</th>\n",
       "      <td>-0.722379</td>\n",
       "      <td>1.712167</td>\n",
       "      <td>-0.291033</td>\n",
       "      <td>-0.906684</td>\n",
       "      <td>-0.032012</td>\n",
       "    </tr>\n",
       "    <tr>\n",
       "      <th>296</th>\n",
       "      <td>0.273851</td>\n",
       "      <td>0.014262</td>\n",
       "      <td>1.236299</td>\n",
       "      <td>1.596931</td>\n",
       "      <td>1.218446</td>\n",
       "    </tr>\n",
       "    <tr>\n",
       "      <th>9850</th>\n",
       "      <td>0.273851</td>\n",
       "      <td>1.712167</td>\n",
       "      <td>-0.672866</td>\n",
       "      <td>-0.906684</td>\n",
       "      <td>-0.694019</td>\n",
       "    </tr>\n",
       "    <tr>\n",
       "      <th>5990</th>\n",
       "      <td>0.896495</td>\n",
       "      <td>-0.551706</td>\n",
       "      <td>-0.291033</td>\n",
       "      <td>-0.906684</td>\n",
       "      <td>-2.312258</td>\n",
       "    </tr>\n",
       "    <tr>\n",
       "      <th>5388</th>\n",
       "      <td>-0.597850</td>\n",
       "      <td>-1.117674</td>\n",
       "      <td>-0.481950</td>\n",
       "      <td>0.345123</td>\n",
       "      <td>-1.135357</td>\n",
       "    </tr>\n",
       "  </tbody>\n",
       "</table>\n",
       "<p>7000 rows × 5 columns</p>\n",
       "</div>"
      ],
      "text/plain": [
       "           age  years_of_experience  lesson_price  qualification  \\\n",
       "2005  0.149322            -1.117674      0.854466       0.345123   \n",
       "8298 -0.971436             2.844104     -1.627449       0.345123   \n",
       "5790 -0.224264             0.014262     -0.481950      -0.906684   \n",
       "1969 -0.099735             1.146199     -0.577408      -0.906684   \n",
       "4543 -0.846908            -1.117674     -0.959241      -0.906684   \n",
       "...        ...                  ...           ...            ...   \n",
       "9199 -0.722379             1.712167     -0.291033      -0.906684   \n",
       "296   0.273851             0.014262      1.236299       1.596931   \n",
       "9850  0.273851             1.712167     -0.672866      -0.906684   \n",
       "5990  0.896495            -0.551706     -0.291033      -0.906684   \n",
       "5388 -0.597850            -1.117674     -0.481950       0.345123   \n",
       "\n",
       "      mean_exam_points  \n",
       "2005          0.335770  \n",
       "8298         -0.473350  \n",
       "5790         -0.399793  \n",
       "1969         -0.546906  \n",
       "4543         -0.988244  \n",
       "...                ...  \n",
       "9199         -0.032012  \n",
       "296           1.218446  \n",
       "9850         -0.694019  \n",
       "5990         -2.312258  \n",
       "5388         -1.135357  \n",
       "\n",
       "[7000 rows x 5 columns]"
      ]
     },
     "metadata": {},
     "output_type": "display_data"
    },
    {
     "data": {
      "text/plain": [
       "2005    0\n",
       "8298    1\n",
       "5790    0\n",
       "1969    0\n",
       "4543    0\n",
       "       ..\n",
       "9199    0\n",
       "296     0\n",
       "9850    0\n",
       "5990    0\n",
       "5388    0\n",
       "Name: choose, Length: 7000, dtype: int64"
      ]
     },
     "metadata": {},
     "output_type": "display_data"
    },
    {
     "data": {
      "text/plain": [
       "age                   -0.008663\n",
       "years_of_experience    0.051461\n",
       "lesson_price          -0.775433\n",
       "qualification          0.311940\n",
       "mean_exam_points       0.476247\n",
       "dtype: float64"
      ]
     },
     "metadata": {},
     "output_type": "display_data"
    }
   ],
   "source": [
    "display(X_train, y_train, coefficients)"
   ]
  },
  {
   "cell_type": "code",
   "execution_count": 243,
   "metadata": {},
   "outputs": [],
   "source": [
    "def calc_prediction(X, W):\n",
    "    z = np.dot(X, W)\n",
    "    y_prediction = 1 / (1 + np.exp(-z))\n",
    "    return y_prediction"
   ]
  },
  {
   "cell_type": "code",
   "execution_count": 244,
   "metadata": {},
   "outputs": [
    {
     "data": {
      "text/plain": [
       "array([0.38845188, 0.78566336, 0.47581012, ..., 0.49853622, 0.23245199,\n",
       "       0.47211156])"
      ]
     },
     "execution_count": 244,
     "metadata": {},
     "output_type": "execute_result"
    }
   ],
   "source": [
    "y_train_prediction = calc_prediction(X_train, coefficients)\n",
    "y_train_prediction"
   ]
  },
  {
   "cell_type": "code",
   "execution_count": 245,
   "metadata": {},
   "outputs": [
    {
     "data": {
      "text/plain": [
       "array([0.60212993, 0.56574172, 0.67860062, ..., 0.60161294, 0.36713445,\n",
       "       0.58477626])"
      ]
     },
     "execution_count": 245,
     "metadata": {},
     "output_type": "execute_result"
    }
   ],
   "source": [
    "y_test_prediction = calc_prediction(X_test, coefficients)\n",
    "y_test_prediction"
   ]
  },
  {
   "cell_type": "markdown",
   "metadata": {},
   "source": [
    "#### ROC AUC"
   ]
  },
  {
   "cell_type": "code",
   "execution_count": 246,
   "metadata": {},
   "outputs": [],
   "source": [
    "def roc_auc(y_prediction, y_true):\n",
    "  TPR = []\n",
    "  FPR = []\n",
    "  tresholds = np.linspace(0, 1, 20)\n",
    "\n",
    "  for treshold in tresholds:\n",
    "    y_pred = np.where(y_prediction >= treshold, 1, 0)\n",
    "\n",
    "    TP = np.sum((y_true == y_pred) & (y_pred == 1))\n",
    "    FP = np.sum((y_true != y_pred) & (y_pred == 1))\n",
    "    TN = np.sum((y_true == y_pred) & (y_pred == 0))\n",
    "    FN = np.sum((y_true != y_pred) & (y_pred == 0))\n",
    "    \n",
    "    tpr = TP / (TP + FN); TPR.append(tpr)\n",
    "    fpr = FP / (FP + TN); FPR.append(fpr)\n",
    "\n",
    "  area_under_curve = np.abs(np.trapz(TPR, FPR))\n",
    "  x = np.linspace(0, 1, 50)\n",
    "  y = x\n",
    "\n",
    "  plt.figure(figsize=(6, 4))\n",
    "  plt.plot(FPR, TPR, linewidth=1.5, color='r')\n",
    "  plt.plot(x, y, linestyle='--', linewidth=1.5, color='b')\n",
    "  plt.xlabel('False Positive Rate')\n",
    "  plt.ylabel('True Positive Rate')\n",
    "  plt.title('ROC AUC curve', size=20)\n",
    "\n",
    "  return f' = {area_under_curve:.4f}'"
   ]
  },
  {
   "cell_type": "code",
   "execution_count": 247,
   "metadata": {},
   "outputs": [
    {
     "name": "stdout",
     "output_type": "stream",
     "text": [
      "Train ROC AUC score:  = 0.8228\n",
      "Test ROC AUC score:  = 0.8184\n"
     ]
    },
    {
     "data": {
      "image/png": "[encoded data removed]",
      "text/plain": [
       "<Figure size 432x288 with 1 Axes>"
      ]
     },
     "metadata": {
      "needs_background": "light"
     },
     "output_type": "display_data"
    },
    {
     "data": {
      "image/png": "[encoded data removed]",
      "text/plain": [
       "<Figure size 432x288 with 1 Axes>"
      ]
     },
     "metadata": {
      "needs_background": "light"
     },
     "output_type": "display_data"
    }
   ],
   "source": [
    "train_roc = roc_auc(y_train_prediction, y_train)\n",
    "test_roc = roc_auc(y_test_prediction, y_test)\n",
    "\n",
    "print(f'Train ROC AUC score: {train_roc}',\n",
    "      f'Test ROC AUC score: {test_roc}', sep='\\n')"
   ]
  },
  {
   "cell_type": "code",
   "execution_count": 251,
   "metadata": {},
   "outputs": [
    {
     "data": {
      "text/plain": [
       "array([0, 0, 0, ..., 0, 0, 0])"
      ]
     },
     "execution_count": 251,
     "metadata": {},
     "output_type": "execute_result"
    }
   ],
   "source": [
    "y_pred_final = calc_prediction(df_test[columns_scaled], coefficients)\n",
    "y_pred_final = np.where(y_pred>0.5, 1, 0)\n",
    "y_pred_final"
   ]
  },
  {
   "cell_type": "code",
   "execution_count": 254,
   "metadata": {},
   "outputs": [],
   "source": [
    "project_pred_final = pd.DataFrame({'Id': df_test['Id'], 'choose': y_pred_final})\n",
    "project_pred_final.to_csv(PRED_PATH, index=False, encoding='utf-8', sep=',')"
   ]
  },
  {
   "cell_type": "code",
   "execution_count": 255,
   "metadata": {},
   "outputs": [
    {
     "data": {
      "text/html": [
       "<div>\n",
       "<style scoped>\n",
       "    .dataframe tbody tr th:only-of-type {\n",
       "        vertical-align: middle;\n",
       "    }\n",
       "\n",
       "    .dataframe tbody tr th {\n",
       "        vertical-align: top;\n",
       "    }\n",
       "\n",
       "    .dataframe thead th {\n",
       "        text-align: right;\n",
       "    }\n",
       "</style>\n",
       "<table border=\"1\" class=\"dataframe\">\n",
       "  <thead>\n",
       "    <tr style=\"text-align: right;\">\n",
       "      <th></th>\n",
       "      <th>Id</th>\n",
       "      <th>choose</th>\n",
       "    </tr>\n",
       "  </thead>\n",
       "  <tbody>\n",
       "    <tr>\n",
       "      <th>count</th>\n",
       "      <td>10000.00000</td>\n",
       "      <td>10000.000000</td>\n",
       "    </tr>\n",
       "    <tr>\n",
       "      <th>mean</th>\n",
       "      <td>14999.50000</td>\n",
       "      <td>0.003000</td>\n",
       "    </tr>\n",
       "    <tr>\n",
       "      <th>std</th>\n",
       "      <td>2886.89568</td>\n",
       "      <td>0.054693</td>\n",
       "    </tr>\n",
       "    <tr>\n",
       "      <th>min</th>\n",
       "      <td>10000.00000</td>\n",
       "      <td>0.000000</td>\n",
       "    </tr>\n",
       "    <tr>\n",
       "      <th>25%</th>\n",
       "      <td>12499.75000</td>\n",
       "      <td>0.000000</td>\n",
       "    </tr>\n",
       "    <tr>\n",
       "      <th>50%</th>\n",
       "      <td>14999.50000</td>\n",
       "      <td>0.000000</td>\n",
       "    </tr>\n",
       "    <tr>\n",
       "      <th>75%</th>\n",
       "      <td>17499.25000</td>\n",
       "      <td>0.000000</td>\n",
       "    </tr>\n",
       "    <tr>\n",
       "      <th>max</th>\n",
       "      <td>19999.00000</td>\n",
       "      <td>1.000000</td>\n",
       "    </tr>\n",
       "  </tbody>\n",
       "</table>\n",
       "</div>"
      ],
      "text/plain": [
       "                Id        choose\n",
       "count  10000.00000  10000.000000\n",
       "mean   14999.50000      0.003000\n",
       "std     2886.89568      0.054693\n",
       "min    10000.00000      0.000000\n",
       "25%    12499.75000      0.000000\n",
       "50%    14999.50000      0.000000\n",
       "75%    17499.25000      0.000000\n",
       "max    19999.00000      1.000000"
      ]
     },
     "execution_count": 255,
     "metadata": {},
     "output_type": "execute_result"
    }
   ],
   "source": [
    "project_pred.describe()"
   ]
  },
  {
   "cell_type": "code",
   "execution_count": null,
   "metadata": {},
   "outputs": [],
   "source": []
  }
 ],
 "metadata": {
  "kernelspec": {
   "display_name": "Python 3",
   "language": "python",
   "name": "python3"
  },
  "language_info": {
   "codemirror_mode": {
    "name": "ipython",
    "version": 3
   },
   "file_extension": ".py",
   "mimetype": "text/x-python",
   "name": "python",
   "nbconvert_exporter": "python",
   "pygments_lexer": "ipython3",
   "version": "3.8.3"
  }
 },
 "nbformat": 4,
 "nbformat_minor": 2
}
